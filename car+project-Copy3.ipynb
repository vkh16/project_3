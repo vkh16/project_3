{
 "cells": [
  {
   "cell_type": "markdown",
   "metadata": {},
   "source": [
    "# What car should I buy? "
   ]
  },
  {
   "cell_type": "markdown",
   "metadata": {},
   "source": [
    "## Introduction and aims \n",
    "\n",
    "This project is going to use a dataset downloaded from Kaggle (https://www.kaggle.com/CooperUnion/cardataset) that contains features of cars. The dataset was origianlly scraped from Edmunds and Twitter to determine which car features predict price. Thanks goes to Kaggle user CooperUnion for making this datset available.  \n",
    "\n",
    "I want to use this data to do design a small series of questions to search for a car of interest. "
   ]
  },
  {
   "cell_type": "markdown",
   "metadata": {},
   "source": [
    "## Step 1 - import packages "
   ]
  },
  {
   "cell_type": "code",
   "execution_count": 1,
   "metadata": {
    "collapsed": true
   },
   "outputs": [],
   "source": [
    "# import the packages required for the analysis \n",
    "import numpy as np                # for data wrangling \n",
    "import pandas as pd               # for data wrangling\n",
    "import matplotlib.pyplot as plt   # for plotting\n",
    "import seaborn as sns             # for plotting\n"
   ]
  },
  {
   "cell_type": "markdown",
   "metadata": {},
   "source": [
    "## Step 2 - import data"
   ]
  },
  {
   "cell_type": "code",
   "execution_count": 2,
   "metadata": {
    "collapsed": true
   },
   "outputs": [],
   "source": [
    "# import the .csv dataset using the pandas read.csv() function \n",
    "# call the dataset \"car_raw_data\"\n",
    "car_raw_data = pd.read_csv(\"/Users/hillvk/desktop/kaggle_car_data2.csv\", \n",
    "                            delimiter = \",\", \n",
    "                            index_col=False)     # tell pandas to not use the first row as row names"
   ]
  },
  {
   "cell_type": "markdown",
   "metadata": {},
   "source": [
    "### Take a look at the data..."
   ]
  },
  {
   "cell_type": "markdown",
   "metadata": {},
   "source": [
    "- Want to have a brief look at the data to make sure it looks like it has been imported correctly "
   ]
  },
  {
   "cell_type": "markdown",
   "metadata": {},
   "source": [
    "#### head( ) command "
   ]
  },
  {
   "cell_type": "code",
   "execution_count": 3,
   "metadata": {},
   "outputs": [
    {
     "data": {
      "text/html": [
       "<div>\n",
       "<style>\n",
       "    .dataframe thead tr:only-child th {\n",
       "        text-align: right;\n",
       "    }\n",
       "\n",
       "    .dataframe thead th {\n",
       "        text-align: left;\n",
       "    }\n",
       "\n",
       "    .dataframe tbody tr th {\n",
       "        vertical-align: top;\n",
       "    }\n",
       "</style>\n",
       "<table border=\"1\" class=\"dataframe\">\n",
       "  <thead>\n",
       "    <tr style=\"text-align: right;\">\n",
       "      <th></th>\n",
       "      <th>make</th>\n",
       "      <th>model</th>\n",
       "      <th>year</th>\n",
       "      <th>engine_fuel_type</th>\n",
       "      <th>engine_HP</th>\n",
       "      <th>engine_cylinders</th>\n",
       "      <th>transmission_type</th>\n",
       "      <th>driven_wheels</th>\n",
       "      <th>number_of_doors</th>\n",
       "      <th>market_category</th>\n",
       "      <th>vehicle_size</th>\n",
       "      <th>vehicle_style</th>\n",
       "      <th>highway_mpg</th>\n",
       "      <th>city_mpg</th>\n",
       "      <th>popularity</th>\n",
       "      <th>MSRP</th>\n",
       "    </tr>\n",
       "  </thead>\n",
       "  <tbody>\n",
       "    <tr>\n",
       "      <th>0</th>\n",
       "      <td>BMW</td>\n",
       "      <td>1 Series M</td>\n",
       "      <td>2011</td>\n",
       "      <td>premium unleaded (required)</td>\n",
       "      <td>335.0</td>\n",
       "      <td>6.0</td>\n",
       "      <td>MANUAL</td>\n",
       "      <td>rear wheel drive</td>\n",
       "      <td>2.0</td>\n",
       "      <td>Factory Tuner,Luxury,High-Performance</td>\n",
       "      <td>Compact</td>\n",
       "      <td>Coupe</td>\n",
       "      <td>26</td>\n",
       "      <td>19</td>\n",
       "      <td>3916</td>\n",
       "      <td>46135</td>\n",
       "    </tr>\n",
       "    <tr>\n",
       "      <th>1</th>\n",
       "      <td>BMW</td>\n",
       "      <td>1 Series</td>\n",
       "      <td>2011</td>\n",
       "      <td>premium unleaded (required)</td>\n",
       "      <td>300.0</td>\n",
       "      <td>6.0</td>\n",
       "      <td>MANUAL</td>\n",
       "      <td>rear wheel drive</td>\n",
       "      <td>2.0</td>\n",
       "      <td>Luxury,Performance</td>\n",
       "      <td>Compact</td>\n",
       "      <td>Convertible</td>\n",
       "      <td>28</td>\n",
       "      <td>19</td>\n",
       "      <td>3916</td>\n",
       "      <td>40650</td>\n",
       "    </tr>\n",
       "    <tr>\n",
       "      <th>2</th>\n",
       "      <td>BMW</td>\n",
       "      <td>1 Series</td>\n",
       "      <td>2011</td>\n",
       "      <td>premium unleaded (required)</td>\n",
       "      <td>300.0</td>\n",
       "      <td>6.0</td>\n",
       "      <td>MANUAL</td>\n",
       "      <td>rear wheel drive</td>\n",
       "      <td>2.0</td>\n",
       "      <td>Luxury,High-Performance</td>\n",
       "      <td>Compact</td>\n",
       "      <td>Coupe</td>\n",
       "      <td>28</td>\n",
       "      <td>20</td>\n",
       "      <td>3916</td>\n",
       "      <td>36350</td>\n",
       "    </tr>\n",
       "    <tr>\n",
       "      <th>3</th>\n",
       "      <td>BMW</td>\n",
       "      <td>1 Series</td>\n",
       "      <td>2011</td>\n",
       "      <td>premium unleaded (required)</td>\n",
       "      <td>230.0</td>\n",
       "      <td>6.0</td>\n",
       "      <td>MANUAL</td>\n",
       "      <td>rear wheel drive</td>\n",
       "      <td>2.0</td>\n",
       "      <td>Luxury,Performance</td>\n",
       "      <td>Compact</td>\n",
       "      <td>Coupe</td>\n",
       "      <td>28</td>\n",
       "      <td>18</td>\n",
       "      <td>3916</td>\n",
       "      <td>29450</td>\n",
       "    </tr>\n",
       "    <tr>\n",
       "      <th>4</th>\n",
       "      <td>BMW</td>\n",
       "      <td>1 Series</td>\n",
       "      <td>2011</td>\n",
       "      <td>premium unleaded (required)</td>\n",
       "      <td>230.0</td>\n",
       "      <td>6.0</td>\n",
       "      <td>MANUAL</td>\n",
       "      <td>rear wheel drive</td>\n",
       "      <td>2.0</td>\n",
       "      <td>Luxury</td>\n",
       "      <td>Compact</td>\n",
       "      <td>Convertible</td>\n",
       "      <td>28</td>\n",
       "      <td>18</td>\n",
       "      <td>3916</td>\n",
       "      <td>34500</td>\n",
       "    </tr>\n",
       "    <tr>\n",
       "      <th>5</th>\n",
       "      <td>BMW</td>\n",
       "      <td>1 Series</td>\n",
       "      <td>2012</td>\n",
       "      <td>premium unleaded (required)</td>\n",
       "      <td>230.0</td>\n",
       "      <td>6.0</td>\n",
       "      <td>MANUAL</td>\n",
       "      <td>rear wheel drive</td>\n",
       "      <td>2.0</td>\n",
       "      <td>Luxury,Performance</td>\n",
       "      <td>Compact</td>\n",
       "      <td>Coupe</td>\n",
       "      <td>28</td>\n",
       "      <td>18</td>\n",
       "      <td>3916</td>\n",
       "      <td>31200</td>\n",
       "    </tr>\n",
       "    <tr>\n",
       "      <th>6</th>\n",
       "      <td>BMW</td>\n",
       "      <td>1 Series</td>\n",
       "      <td>2012</td>\n",
       "      <td>premium unleaded (required)</td>\n",
       "      <td>300.0</td>\n",
       "      <td>6.0</td>\n",
       "      <td>MANUAL</td>\n",
       "      <td>rear wheel drive</td>\n",
       "      <td>2.0</td>\n",
       "      <td>Luxury,Performance</td>\n",
       "      <td>Compact</td>\n",
       "      <td>Convertible</td>\n",
       "      <td>26</td>\n",
       "      <td>17</td>\n",
       "      <td>3916</td>\n",
       "      <td>44100</td>\n",
       "    </tr>\n",
       "    <tr>\n",
       "      <th>7</th>\n",
       "      <td>BMW</td>\n",
       "      <td>1 Series</td>\n",
       "      <td>2012</td>\n",
       "      <td>premium unleaded (required)</td>\n",
       "      <td>300.0</td>\n",
       "      <td>6.0</td>\n",
       "      <td>MANUAL</td>\n",
       "      <td>rear wheel drive</td>\n",
       "      <td>2.0</td>\n",
       "      <td>Luxury,High-Performance</td>\n",
       "      <td>Compact</td>\n",
       "      <td>Coupe</td>\n",
       "      <td>28</td>\n",
       "      <td>20</td>\n",
       "      <td>3916</td>\n",
       "      <td>39300</td>\n",
       "    </tr>\n",
       "    <tr>\n",
       "      <th>8</th>\n",
       "      <td>BMW</td>\n",
       "      <td>1 Series</td>\n",
       "      <td>2012</td>\n",
       "      <td>premium unleaded (required)</td>\n",
       "      <td>230.0</td>\n",
       "      <td>6.0</td>\n",
       "      <td>MANUAL</td>\n",
       "      <td>rear wheel drive</td>\n",
       "      <td>2.0</td>\n",
       "      <td>Luxury</td>\n",
       "      <td>Compact</td>\n",
       "      <td>Convertible</td>\n",
       "      <td>28</td>\n",
       "      <td>18</td>\n",
       "      <td>3916</td>\n",
       "      <td>36900</td>\n",
       "    </tr>\n",
       "    <tr>\n",
       "      <th>9</th>\n",
       "      <td>BMW</td>\n",
       "      <td>1 Series</td>\n",
       "      <td>2013</td>\n",
       "      <td>premium unleaded (required)</td>\n",
       "      <td>230.0</td>\n",
       "      <td>6.0</td>\n",
       "      <td>MANUAL</td>\n",
       "      <td>rear wheel drive</td>\n",
       "      <td>2.0</td>\n",
       "      <td>Luxury</td>\n",
       "      <td>Compact</td>\n",
       "      <td>Convertible</td>\n",
       "      <td>27</td>\n",
       "      <td>18</td>\n",
       "      <td>3916</td>\n",
       "      <td>37200</td>\n",
       "    </tr>\n",
       "  </tbody>\n",
       "</table>\n",
       "</div>"
      ],
      "text/plain": [
       "  make       model  year             engine_fuel_type  engine_HP  \\\n",
       "0  BMW  1 Series M  2011  premium unleaded (required)      335.0   \n",
       "1  BMW    1 Series  2011  premium unleaded (required)      300.0   \n",
       "2  BMW    1 Series  2011  premium unleaded (required)      300.0   \n",
       "3  BMW    1 Series  2011  premium unleaded (required)      230.0   \n",
       "4  BMW    1 Series  2011  premium unleaded (required)      230.0   \n",
       "5  BMW    1 Series  2012  premium unleaded (required)      230.0   \n",
       "6  BMW    1 Series  2012  premium unleaded (required)      300.0   \n",
       "7  BMW    1 Series  2012  premium unleaded (required)      300.0   \n",
       "8  BMW    1 Series  2012  premium unleaded (required)      230.0   \n",
       "9  BMW    1 Series  2013  premium unleaded (required)      230.0   \n",
       "\n",
       "   engine_cylinders transmission_type     driven_wheels  number_of_doors  \\\n",
       "0               6.0            MANUAL  rear wheel drive              2.0   \n",
       "1               6.0            MANUAL  rear wheel drive              2.0   \n",
       "2               6.0            MANUAL  rear wheel drive              2.0   \n",
       "3               6.0            MANUAL  rear wheel drive              2.0   \n",
       "4               6.0            MANUAL  rear wheel drive              2.0   \n",
       "5               6.0            MANUAL  rear wheel drive              2.0   \n",
       "6               6.0            MANUAL  rear wheel drive              2.0   \n",
       "7               6.0            MANUAL  rear wheel drive              2.0   \n",
       "8               6.0            MANUAL  rear wheel drive              2.0   \n",
       "9               6.0            MANUAL  rear wheel drive              2.0   \n",
       "\n",
       "                         market_category vehicle_size vehicle_style  \\\n",
       "0  Factory Tuner,Luxury,High-Performance      Compact         Coupe   \n",
       "1                     Luxury,Performance      Compact   Convertible   \n",
       "2                Luxury,High-Performance      Compact         Coupe   \n",
       "3                     Luxury,Performance      Compact         Coupe   \n",
       "4                                 Luxury      Compact   Convertible   \n",
       "5                     Luxury,Performance      Compact         Coupe   \n",
       "6                     Luxury,Performance      Compact   Convertible   \n",
       "7                Luxury,High-Performance      Compact         Coupe   \n",
       "8                                 Luxury      Compact   Convertible   \n",
       "9                                 Luxury      Compact   Convertible   \n",
       "\n",
       "   highway_mpg  city_mpg  popularity   MSRP  \n",
       "0           26        19        3916  46135  \n",
       "1           28        19        3916  40650  \n",
       "2           28        20        3916  36350  \n",
       "3           28        18        3916  29450  \n",
       "4           28        18        3916  34500  \n",
       "5           28        18        3916  31200  \n",
       "6           26        17        3916  44100  \n",
       "7           28        20        3916  39300  \n",
       "8           28        18        3916  36900  \n",
       "9           27        18        3916  37200  "
      ]
     },
     "execution_count": 3,
     "metadata": {},
     "output_type": "execute_result"
    }
   ],
   "source": [
    "# take a look at the first 10 rows to make sure the data has been imported correctly \n",
    "car_raw_data.head(n=10)"
   ]
  },
  {
   "cell_type": "markdown",
   "metadata": {},
   "source": [
    "- The data looks like it imported correctly \n",
    "- Now have a look at how much data is in the datset "
   ]
  },
  {
   "cell_type": "markdown",
   "metadata": {},
   "source": [
    "#### shape( ) command "
   ]
  },
  {
   "cell_type": "code",
   "execution_count": 4,
   "metadata": {},
   "outputs": [
    {
     "name": "stdout",
     "output_type": "stream",
     "text": [
      "(11914, 16)\n"
     ]
    }
   ],
   "source": [
    "# use the shape() command to find out how many rows and columns the data has \n",
    "print(car_raw_data.shape)"
   ]
  },
  {
   "cell_type": "markdown",
   "metadata": {},
   "source": [
    "- This is a large dataset containing data on 16 different features for 11914 different cars "
   ]
  },
  {
   "cell_type": "markdown",
   "metadata": {},
   "source": [
    "#### Are there any null values? "
   ]
  },
  {
   "cell_type": "code",
   "execution_count": 5,
   "metadata": {},
   "outputs": [
    {
     "name": "stdout",
     "output_type": "stream",
     "text": [
      "True\n"
     ]
    }
   ],
   "source": [
    "# ask if there are any null values within the imported dataset \n",
    "# return a boolean \n",
    "print(car_raw_data.isnull().values.any())"
   ]
  },
  {
   "cell_type": "markdown",
   "metadata": {},
   "source": [
    "- There are some null values, remove from the dataset \n",
    "- Once they have been removed, have a look to see how many datapoints remain"
   ]
  },
  {
   "cell_type": "code",
   "execution_count": 6,
   "metadata": {
    "collapsed": true
   },
   "outputs": [],
   "source": [
    "# create a new variable, \"car_mod_data\", that has had all rows containing a null value removed \n",
    "car_mod_data = car_raw_data.dropna(axis=0, how='any') \n",
    "\n",
    "# dropna() will remove na values \n",
    "# the argument axis=0 means to remove rows based on na values \n",
    "# the argument \"how='any'\" means remove any row that has a null value in any of the columns "
   ]
  },
  {
   "cell_type": "markdown",
   "metadata": {},
   "source": [
    "- How many rows and columns remain now that the null values have been removed? "
   ]
  },
  {
   "cell_type": "code",
   "execution_count": 7,
   "metadata": {},
   "outputs": [
    {
     "name": "stdout",
     "output_type": "stream",
     "text": [
      "(8084, 16)\n"
     ]
    }
   ],
   "source": [
    "# use the shape() command to find out how many rows and columns the modified data has \n",
    "print(car_mod_data.shape)"
   ]
  },
  {
   "cell_type": "markdown",
   "metadata": {},
   "source": [
    "- This is still a very large dataset, go forward and use the filtered data for further analyses "
   ]
  },
  {
   "cell_type": "markdown",
   "metadata": {},
   "source": [
    "## Step 3 - get some idea of what information is in the dataset "
   ]
  },
  {
   "cell_type": "markdown",
   "metadata": {},
   "source": [
    "### What car makes are included in the data? "
   ]
  },
  {
   "cell_type": "code",
   "execution_count": 8,
   "metadata": {
    "scrolled": true
   },
   "outputs": [
    {
     "name": "stdout",
     "output_type": "stream",
     "text": [
      "['BMW' 'Audi' 'FIAT' 'Mercedes-Benz' 'Chrysler' 'Nissan' 'Volvo' 'Mazda'\n",
      " 'Mitsubishi' 'Ferrari' 'Alfa Romeo' 'McLaren' 'Maybach' 'Porsche' 'Toyota'\n",
      " 'Saab' 'GMC' 'Hyundai' 'Honda' 'Cadillac' 'Bentley' 'Ford' 'Oldsmobile'\n",
      " 'Chevrolet' 'Dodge' 'Lamborghini' 'Lincoln' 'Pontiac' 'Subaru'\n",
      " 'Volkswagen' 'Spyker' 'Kia' 'Acura' 'Plymouth' 'Rolls-Royce' 'Maserati'\n",
      " 'Lexus' 'Aston Martin' 'Land Rover' 'Lotus' 'Buick' 'Infiniti' 'Scion'\n",
      " 'Genesis' 'Suzuki' 'HUMMER' 'Bugatti']\n"
     ]
    }
   ],
   "source": [
    "# have a look at the unique entries in the 'make' column \n",
    "print(car_mod_data.make.unique())"
   ]
  },
  {
   "cell_type": "markdown",
   "metadata": {},
   "source": [
    "### How many car makes are included in the data? "
   ]
  },
  {
   "cell_type": "markdown",
   "metadata": {},
   "source": [
    "- How many car makes are included in the dataset? \n",
    "- Do the car makes have similar numbers of models within the dataset? "
   ]
  },
  {
   "cell_type": "code",
   "execution_count": 9,
   "metadata": {},
   "outputs": [
    {
     "name": "stdout",
     "output_type": "stream",
     "text": [
      "47\n"
     ]
    }
   ],
   "source": [
    "# how many different makes of car are in the dataset? \n",
    "# print out the number of unique entries in the 'make' column \n",
    "print(car_mod_data.make.nunique())"
   ]
  },
  {
   "cell_type": "code",
   "execution_count": 10,
   "metadata": {
    "scrolled": true
   },
   "outputs": [
    {
     "name": "stdout",
     "output_type": "stream",
     "text": [
      "             make  model\n",
      "9       Chevrolet    614\n",
      "45     Volkswagen    581\n",
      "14           Ford    492\n",
      "8        Cadillac    397\n",
      "31  Mercedes-Benz    352\n",
      "4             BMW    334\n",
      "20       Infiniti    330\n",
      "3            Audi    328\n",
      "11          Dodge    320\n",
      "33         Nissan    308\n",
      "44         Toyota    300\n",
      "18          Honda    282\n",
      "46          Volvo    281\n",
      "15            GMC    270\n",
      "0           Acura    252\n",
      "29          Mazda    239\n",
      "42         Subaru    214\n",
      "19        Hyundai    214\n",
      "24          Lexus    202\n",
      "25        Lincoln    156\n",
      "23     Land Rover    143\n",
      "37        Porsche    136\n",
      "32     Mitsubishi    125\n",
      "7           Buick    125\n",
      "39           Saab    111\n",
      "21            Kia    109\n",
      "10       Chrysler    108\n",
      "43         Suzuki     99\n",
      "2    Aston Martin     93\n",
      "36        Pontiac     77\n",
      "5         Bentley     74\n",
      "13        Ferrari     68\n",
      "27       Maserati     58\n",
      "22    Lamborghini     52\n",
      "40          Scion     48\n",
      "35       Plymouth     39\n",
      "12           FIAT     38\n",
      "38    Rolls-Royce     31\n",
      "26          Lotus     29\n",
      "17         HUMMER     17\n",
      "28        Maybach     16\n",
      "30        McLaren      5\n",
      "1      Alfa Romeo      5\n",
      "34     Oldsmobile      3\n",
      "6         Bugatti      3\n",
      "16        Genesis      3\n",
      "41         Spyker      3\n"
     ]
    }
   ],
   "source": [
    "# count how many of each make are in the dataset \n",
    "# first group the data by 'make' and then use count() to count the models in each group \n",
    "# use as_index=False option so that column containing the car makes will not become indexes  \n",
    "make_count = car_mod_data.groupby('make', as_index=False)['model'].count()\n",
    "\n",
    "# sort the data into descending order on the number of models per make \n",
    "sorted_make_count = make_count.sort_values(by=['model'], ascending=[False])\n",
    "\n",
    "### sanity check - print the new varaible, 'make_count' \n",
    "print(sorted_make_count)"
   ]
  },
  {
   "cell_type": "code",
   "execution_count": 11,
   "metadata": {},
   "outputs": [
    {
     "data": {
      "image/png": "[encoded data removed]",
      "text/plain": [
       "<matplotlib.figure.Figure at 0x1040c0e48>"
      ]
     },
     "metadata": {},
     "output_type": "display_data"
    }
   ],
   "source": [
    "# draw a bar chart of the data to get an easier and quicker indication of this data\n",
    "# choose a single color as the default of multiple colors will not be approriate here \n",
    "model_chart = sns.barplot(x=\"make\", y=\"model\", data=sorted_make_count, color='cornflowerblue') \n",
    "\n",
    "# set the x and y labels \n",
    "# becasue there are so many bars, set the x axis tick labes to be at 90 degrees so that they are readable \n",
    "model_chart.set(xlabel='Car make', ylabel = 'Number of entries in the dataset')\n",
    "for item in model_chart.get_xticklabels():\n",
    "    item.set_rotation(90)\n",
    "plt.show()"
   ]
  },
  {
   "cell_type": "markdown",
   "metadata": {},
   "source": [
    "- Chevrolet and Volkswagon are the most common car makes in the dataset \n",
    "- This may be because there are multiple entries per model (e.g. all Chevrolet models might be available with many different options (e.g. automatic transmission, manual transmission, all wheel drive, rear wheel drive etc.) or it maybe becuase some car makes produce a wider range of vehicles "
   ]
  },
  {
   "cell_type": "markdown",
   "metadata": {},
   "source": [
    "### What different car types are within the dataset? How may different types? "
   ]
  },
  {
   "cell_type": "markdown",
   "metadata": {},
   "source": [
    "- I would like to know what the dataset has in terms of sedans, SUVs, hatchbacks etc. "
   ]
  },
  {
   "cell_type": "code",
   "execution_count": 12,
   "metadata": {},
   "outputs": [
    {
     "name": "stdout",
     "output_type": "stream",
     "text": [
      "['Coupe' 'Convertible' 'Sedan' 'Wagon' '4dr Hatchback' '2dr Hatchback'\n",
      " '4dr SUV' 'Crew Cab Pickup' 'Extended Cab Pickup' 'Regular Cab Pickup'\n",
      " 'Passenger Minivan' 'Cargo Minivan' '2dr SUV' 'Convertible SUV'\n",
      " 'Cargo Van' 'Passenger Van']\n"
     ]
    }
   ],
   "source": [
    "# pull out the unique entries in the 'vehicle_style' column \n",
    "print(car_mod_data.vehicle_style.unique())"
   ]
  },
  {
   "cell_type": "code",
   "execution_count": 13,
   "metadata": {},
   "outputs": [
    {
     "name": "stdout",
     "output_type": "stream",
     "text": [
      "16\n"
     ]
    }
   ],
   "source": [
    "# how many different vehicle styles are in the dataset?\n",
    "# print out the number of unique entries are in the 'vehicle_style' column \n",
    "print(car_mod_data.vehicle_style.nunique())"
   ]
  },
  {
   "cell_type": "code",
   "execution_count": 14,
   "metadata": {},
   "outputs": [
    {
     "name": "stdout",
     "output_type": "stream",
     "text": [
      "          vehicle_style  model\n",
      "3               4dr SUV   2093\n",
      "14                Sedan   1909\n",
      "8                 Coupe    939\n",
      "2         4dr Hatchback    678\n",
      "6           Convertible    670\n",
      "0         2dr Hatchback    503\n",
      "15                Wagon    357\n",
      "9       Crew Cab Pickup    344\n",
      "10  Extended Cab Pickup    191\n",
      "13   Regular Cab Pickup    176\n",
      "12        Passenger Van    100\n",
      "11    Passenger Minivan     65\n",
      "5             Cargo Van     34\n",
      "1               2dr SUV     14\n",
      "7       Convertible SUV      6\n",
      "4         Cargo Minivan      5\n"
     ]
    }
   ],
   "source": [
    "# count how many of each vehicle style are in the dataset \n",
    "# first group the data by 'vehicle_style' and then use count() to count the models in each group \n",
    "# use 'as_index=False' argument so that the column containing the different vehicle styles will not become indexes \n",
    "vehicle_style_count = car_mod_data.groupby('vehicle_style', as_index=False)['model'].count()\n",
    "\n",
    "# sort the data into descending order on the number of models per vehicle style\n",
    "sorted_style_count = vehicle_style_count.sort_values(by=['model'], ascending=[False])\n",
    "\n",
    "### sanity check - print the new varaible, 'sorted_style_count' \n",
    "print(sorted_style_count)"
   ]
  },
  {
   "cell_type": "code",
   "execution_count": 15,
   "metadata": {},
   "outputs": [
    {
     "data": {
      "image/png": "[encoded data removed]",
      "text/plain": [
       "<matplotlib.figure.Figure at 0x10f7f5e48>"
      ]
     },
     "metadata": {},
     "output_type": "display_data"
    }
   ],
   "source": [
    "# draw a bar chart of the data to get an easier and quicker indication of this data\n",
    "# choose a single color as the default of multiple colors will not be approriate here \n",
    "style_plot = sns.barplot(x=\"vehicle_style\", y=\"model\", data=sorted_style_count, color='cornflowerblue')\n",
    "\n",
    "# set the x and y labels \n",
    "# becasue the x axis tick labes are so long, set the x axis tick labes to be at 90 degrees so that they are readable \n",
    "style_plot.set(xlabel='Vehicle style', ylabel = 'Number of each vehicle style in the dataset')\n",
    "for item in style_plot.get_xticklabels():\n",
    "    item.set_rotation(90)\n",
    "plt.show()"
   ]
  },
  {
   "cell_type": "markdown",
   "metadata": {},
   "source": [
    "- 4dr SUVs and sedans are the most popular vehicle styles in the dataset "
   ]
  },
  {
   "cell_type": "markdown",
   "metadata": {
    "collapsed": true
   },
   "source": [
    "### What years has the dataset been compiled from? "
   ]
  },
  {
   "cell_type": "code",
   "execution_count": 16,
   "metadata": {},
   "outputs": [
    {
     "name": "stdout",
     "output_type": "stream",
     "text": [
      "28\n"
     ]
    }
   ],
   "source": [
    "# find out how many different years are in the dataset\n",
    "# print out the number of unique entries are in the 'year' column \n",
    "print(car_raw_data.year.nunique())"
   ]
  },
  {
   "cell_type": "code",
   "execution_count": 17,
   "metadata": {},
   "outputs": [
    {
     "name": "stdout",
     "output_type": "stream",
     "text": [
      "    year  model\n",
      "0   1990    123\n",
      "1   1991    152\n",
      "2   1992    177\n",
      "3   1993    209\n",
      "4   1994    163\n",
      "5   1995    135\n",
      "6   1996    131\n",
      "7   1997    175\n",
      "8   1998    154\n",
      "9   1999    120\n",
      "10  2000    118\n",
      "11  2001    168\n",
      "12  2002    205\n",
      "13  2003    238\n",
      "14  2004    235\n",
      "15  2005    213\n",
      "16  2006    205\n",
      "17  2007    345\n",
      "18  2008    349\n",
      "19  2009    379\n",
      "20  2010    298\n",
      "21  2011    285\n",
      "22  2012    387\n",
      "23  2013    366\n",
      "24  2014    589\n",
      "25  2015   2170\n",
      "26  2016   2157\n",
      "27  2017   1668\n"
     ]
    }
   ],
   "source": [
    "# count how many models are in each year of the dataset \n",
    "# first, groupby 'year' and then use count() to count the models in each group \n",
    "# use 'as_index=False' argument so that the column containing the year reference will not become indexes\n",
    "year_count = car_raw_data.groupby('year', as_index=False)['model'].count()\n",
    "\n",
    "# print the new varaible, 'year_count' \n",
    "print(year_count)"
   ]
  },
  {
   "cell_type": "markdown",
   "metadata": {},
   "source": [
    "- The database contains information on cars from the past 28 years \n",
    "- Analyze this data to see how the types of car have changed over time "
   ]
  },
  {
   "cell_type": "markdown",
   "metadata": {},
   "source": [
    "### How has the vehicle style altered over time? "
   ]
  },
  {
   "cell_type": "markdown",
   "metadata": {},
   "source": [
    "- Have a look at the precentage of cars in each year that are sedans and 4dr SUVs "
   ]
  },
  {
   "cell_type": "markdown",
   "metadata": {},
   "source": [
    "## Step 4 - select data for 2017 models only "
   ]
  },
  {
   "cell_type": "markdown",
   "metadata": {},
   "source": [
    "- For the purposes of choosing a car, filter the dataset to only inlcude cars from the past year "
   ]
  },
  {
   "cell_type": "code",
   "execution_count": 18,
   "metadata": {
    "collapsed": true
   },
   "outputs": [],
   "source": [
    "# select data from 2017 cars only \n",
    "# use the loc function to pull out data where the year is equal to 2017\n",
    "car_2017 = car_mod_data.loc[car_mod_data['year'] == 2017]"
   ]
  },
  {
   "cell_type": "code",
   "execution_count": 19,
   "metadata": {},
   "outputs": [
    {
     "data": {
      "text/html": [
       "<div>\n",
       "<style>\n",
       "    .dataframe thead tr:only-child th {\n",
       "        text-align: right;\n",
       "    }\n",
       "\n",
       "    .dataframe thead th {\n",
       "        text-align: left;\n",
       "    }\n",
       "\n",
       "    .dataframe tbody tr th {\n",
       "        vertical-align: top;\n",
       "    }\n",
       "</style>\n",
       "<table border=\"1\" class=\"dataframe\">\n",
       "  <thead>\n",
       "    <tr style=\"text-align: right;\">\n",
       "      <th></th>\n",
       "      <th>make</th>\n",
       "      <th>model</th>\n",
       "      <th>year</th>\n",
       "      <th>engine_fuel_type</th>\n",
       "      <th>engine_HP</th>\n",
       "      <th>engine_cylinders</th>\n",
       "      <th>transmission_type</th>\n",
       "      <th>driven_wheels</th>\n",
       "      <th>number_of_doors</th>\n",
       "      <th>market_category</th>\n",
       "      <th>vehicle_size</th>\n",
       "      <th>vehicle_style</th>\n",
       "      <th>highway_mpg</th>\n",
       "      <th>city_mpg</th>\n",
       "      <th>popularity</th>\n",
       "      <th>MSRP</th>\n",
       "    </tr>\n",
       "  </thead>\n",
       "  <tbody>\n",
       "    <tr>\n",
       "      <th>32</th>\n",
       "      <td>FIAT</td>\n",
       "      <td>124 Spider</td>\n",
       "      <td>2017</td>\n",
       "      <td>premium unleaded (recommended)</td>\n",
       "      <td>160.0</td>\n",
       "      <td>4.0</td>\n",
       "      <td>MANUAL</td>\n",
       "      <td>rear wheel drive</td>\n",
       "      <td>2.0</td>\n",
       "      <td>Performance</td>\n",
       "      <td>Compact</td>\n",
       "      <td>Convertible</td>\n",
       "      <td>35</td>\n",
       "      <td>26</td>\n",
       "      <td>819</td>\n",
       "      <td>27495</td>\n",
       "    </tr>\n",
       "    <tr>\n",
       "      <th>33</th>\n",
       "      <td>FIAT</td>\n",
       "      <td>124 Spider</td>\n",
       "      <td>2017</td>\n",
       "      <td>premium unleaded (recommended)</td>\n",
       "      <td>160.0</td>\n",
       "      <td>4.0</td>\n",
       "      <td>MANUAL</td>\n",
       "      <td>rear wheel drive</td>\n",
       "      <td>2.0</td>\n",
       "      <td>Performance</td>\n",
       "      <td>Compact</td>\n",
       "      <td>Convertible</td>\n",
       "      <td>35</td>\n",
       "      <td>26</td>\n",
       "      <td>819</td>\n",
       "      <td>24995</td>\n",
       "    </tr>\n",
       "    <tr>\n",
       "      <th>34</th>\n",
       "      <td>FIAT</td>\n",
       "      <td>124 Spider</td>\n",
       "      <td>2017</td>\n",
       "      <td>premium unleaded (recommended)</td>\n",
       "      <td>160.0</td>\n",
       "      <td>4.0</td>\n",
       "      <td>MANUAL</td>\n",
       "      <td>rear wheel drive</td>\n",
       "      <td>2.0</td>\n",
       "      <td>Performance</td>\n",
       "      <td>Compact</td>\n",
       "      <td>Convertible</td>\n",
       "      <td>35</td>\n",
       "      <td>26</td>\n",
       "      <td>819</td>\n",
       "      <td>28195</td>\n",
       "    </tr>\n",
       "    <tr>\n",
       "      <th>50</th>\n",
       "      <td>BMW</td>\n",
       "      <td>2 Series</td>\n",
       "      <td>2017</td>\n",
       "      <td>premium unleaded (recommended)</td>\n",
       "      <td>335.0</td>\n",
       "      <td>6.0</td>\n",
       "      <td>AUTOMATIC</td>\n",
       "      <td>all wheel drive</td>\n",
       "      <td>2.0</td>\n",
       "      <td>Factory Tuner,Luxury,High-Performance</td>\n",
       "      <td>Compact</td>\n",
       "      <td>Coupe</td>\n",
       "      <td>31</td>\n",
       "      <td>21</td>\n",
       "      <td>3916</td>\n",
       "      <td>46450</td>\n",
       "    </tr>\n",
       "    <tr>\n",
       "      <th>51</th>\n",
       "      <td>BMW</td>\n",
       "      <td>2 Series</td>\n",
       "      <td>2017</td>\n",
       "      <td>premium unleaded (recommended)</td>\n",
       "      <td>335.0</td>\n",
       "      <td>6.0</td>\n",
       "      <td>AUTOMATIC</td>\n",
       "      <td>rear wheel drive</td>\n",
       "      <td>2.0</td>\n",
       "      <td>Factory Tuner,Luxury,High-Performance</td>\n",
       "      <td>Compact</td>\n",
       "      <td>Convertible</td>\n",
       "      <td>32</td>\n",
       "      <td>21</td>\n",
       "      <td>3916</td>\n",
       "      <td>49050</td>\n",
       "    </tr>\n",
       "    <tr>\n",
       "      <th>52</th>\n",
       "      <td>BMW</td>\n",
       "      <td>2 Series</td>\n",
       "      <td>2017</td>\n",
       "      <td>premium unleaded (recommended)</td>\n",
       "      <td>335.0</td>\n",
       "      <td>6.0</td>\n",
       "      <td>AUTOMATIC</td>\n",
       "      <td>all wheel drive</td>\n",
       "      <td>2.0</td>\n",
       "      <td>Factory Tuner,Luxury,High-Performance</td>\n",
       "      <td>Compact</td>\n",
       "      <td>Convertible</td>\n",
       "      <td>32</td>\n",
       "      <td>21</td>\n",
       "      <td>3916</td>\n",
       "      <td>51050</td>\n",
       "    </tr>\n",
       "    <tr>\n",
       "      <th>53</th>\n",
       "      <td>BMW</td>\n",
       "      <td>2 Series</td>\n",
       "      <td>2017</td>\n",
       "      <td>premium unleaded (recommended)</td>\n",
       "      <td>335.0</td>\n",
       "      <td>6.0</td>\n",
       "      <td>AUTOMATIC</td>\n",
       "      <td>rear wheel drive</td>\n",
       "      <td>2.0</td>\n",
       "      <td>Factory Tuner,Luxury,High-Performance</td>\n",
       "      <td>Compact</td>\n",
       "      <td>Coupe</td>\n",
       "      <td>32</td>\n",
       "      <td>21</td>\n",
       "      <td>3916</td>\n",
       "      <td>44450</td>\n",
       "    </tr>\n",
       "    <tr>\n",
       "      <th>54</th>\n",
       "      <td>BMW</td>\n",
       "      <td>2 Series</td>\n",
       "      <td>2017</td>\n",
       "      <td>premium unleaded (recommended)</td>\n",
       "      <td>248.0</td>\n",
       "      <td>4.0</td>\n",
       "      <td>AUTOMATIC</td>\n",
       "      <td>rear wheel drive</td>\n",
       "      <td>2.0</td>\n",
       "      <td>Luxury,Performance</td>\n",
       "      <td>Compact</td>\n",
       "      <td>Convertible</td>\n",
       "      <td>34</td>\n",
       "      <td>23</td>\n",
       "      <td>3916</td>\n",
       "      <td>38950</td>\n",
       "    </tr>\n",
       "    <tr>\n",
       "      <th>55</th>\n",
       "      <td>BMW</td>\n",
       "      <td>2 Series</td>\n",
       "      <td>2017</td>\n",
       "      <td>premium unleaded (recommended)</td>\n",
       "      <td>248.0</td>\n",
       "      <td>4.0</td>\n",
       "      <td>AUTOMATIC</td>\n",
       "      <td>rear wheel drive</td>\n",
       "      <td>2.0</td>\n",
       "      <td>Luxury,Performance</td>\n",
       "      <td>Compact</td>\n",
       "      <td>Coupe</td>\n",
       "      <td>35</td>\n",
       "      <td>24</td>\n",
       "      <td>3916</td>\n",
       "      <td>33150</td>\n",
       "    </tr>\n",
       "    <tr>\n",
       "      <th>56</th>\n",
       "      <td>BMW</td>\n",
       "      <td>2 Series</td>\n",
       "      <td>2017</td>\n",
       "      <td>premium unleaded (recommended)</td>\n",
       "      <td>248.0</td>\n",
       "      <td>4.0</td>\n",
       "      <td>AUTOMATIC</td>\n",
       "      <td>all wheel drive</td>\n",
       "      <td>2.0</td>\n",
       "      <td>Luxury,Performance</td>\n",
       "      <td>Compact</td>\n",
       "      <td>Coupe</td>\n",
       "      <td>33</td>\n",
       "      <td>24</td>\n",
       "      <td>3916</td>\n",
       "      <td>35150</td>\n",
       "    </tr>\n",
       "  </tbody>\n",
       "</table>\n",
       "</div>"
      ],
      "text/plain": [
       "    make       model  year                engine_fuel_type  engine_HP  \\\n",
       "32  FIAT  124 Spider  2017  premium unleaded (recommended)      160.0   \n",
       "33  FIAT  124 Spider  2017  premium unleaded (recommended)      160.0   \n",
       "34  FIAT  124 Spider  2017  premium unleaded (recommended)      160.0   \n",
       "50   BMW    2 Series  2017  premium unleaded (recommended)      335.0   \n",
       "51   BMW    2 Series  2017  premium unleaded (recommended)      335.0   \n",
       "52   BMW    2 Series  2017  premium unleaded (recommended)      335.0   \n",
       "53   BMW    2 Series  2017  premium unleaded (recommended)      335.0   \n",
       "54   BMW    2 Series  2017  premium unleaded (recommended)      248.0   \n",
       "55   BMW    2 Series  2017  premium unleaded (recommended)      248.0   \n",
       "56   BMW    2 Series  2017  premium unleaded (recommended)      248.0   \n",
       "\n",
       "    engine_cylinders transmission_type     driven_wheels  number_of_doors  \\\n",
       "32               4.0            MANUAL  rear wheel drive              2.0   \n",
       "33               4.0            MANUAL  rear wheel drive              2.0   \n",
       "34               4.0            MANUAL  rear wheel drive              2.0   \n",
       "50               6.0         AUTOMATIC   all wheel drive              2.0   \n",
       "51               6.0         AUTOMATIC  rear wheel drive              2.0   \n",
       "52               6.0         AUTOMATIC   all wheel drive              2.0   \n",
       "53               6.0         AUTOMATIC  rear wheel drive              2.0   \n",
       "54               4.0         AUTOMATIC  rear wheel drive              2.0   \n",
       "55               4.0         AUTOMATIC  rear wheel drive              2.0   \n",
       "56               4.0         AUTOMATIC   all wheel drive              2.0   \n",
       "\n",
       "                          market_category vehicle_size vehicle_style  \\\n",
       "32                            Performance      Compact   Convertible   \n",
       "33                            Performance      Compact   Convertible   \n",
       "34                            Performance      Compact   Convertible   \n",
       "50  Factory Tuner,Luxury,High-Performance      Compact         Coupe   \n",
       "51  Factory Tuner,Luxury,High-Performance      Compact   Convertible   \n",
       "52  Factory Tuner,Luxury,High-Performance      Compact   Convertible   \n",
       "53  Factory Tuner,Luxury,High-Performance      Compact         Coupe   \n",
       "54                     Luxury,Performance      Compact   Convertible   \n",
       "55                     Luxury,Performance      Compact         Coupe   \n",
       "56                     Luxury,Performance      Compact         Coupe   \n",
       "\n",
       "    highway_mpg  city_mpg  popularity   MSRP  \n",
       "32           35        26         819  27495  \n",
       "33           35        26         819  24995  \n",
       "34           35        26         819  28195  \n",
       "50           31        21        3916  46450  \n",
       "51           32        21        3916  49050  \n",
       "52           32        21        3916  51050  \n",
       "53           32        21        3916  44450  \n",
       "54           34        23        3916  38950  \n",
       "55           35        24        3916  33150  \n",
       "56           33        24        3916  35150  "
      ]
     },
     "execution_count": 19,
     "metadata": {},
     "output_type": "execute_result"
    }
   ],
   "source": [
    "#have a look at the filtered data \n",
    "car_2017.head(n=10)"
   ]
  },
  {
   "cell_type": "code",
   "execution_count": 20,
   "metadata": {},
   "outputs": [
    {
     "name": "stdout",
     "output_type": "stream",
     "text": [
      "[2017]\n"
     ]
    }
   ],
   "source": [
    "### sanity check - is the only entry in the year column 2017? \n",
    "print(car_2017.year.unique())"
   ]
  },
  {
   "cell_type": "markdown",
   "metadata": {},
   "source": [
    "- The sorting worked, continue to creating something that will aid in choosing a car "
   ]
  },
  {
   "cell_type": "markdown",
   "metadata": {},
   "source": [
    "## Step 5 - work on designing an aid to help choose a car "
   ]
  },
  {
   "cell_type": "markdown",
   "metadata": {
    "collapsed": true
   },
   "source": [
    "### What are the searchable parameters? "
   ]
  },
  {
   "cell_type": "markdown",
   "metadata": {},
   "source": [
    "- In order to design a useful aid, it would be useful to know which of the data parameters are going to be useful to search"
   ]
  },
  {
   "cell_type": "code",
   "execution_count": 21,
   "metadata": {},
   "outputs": [
    {
     "name": "stdout",
     "output_type": "stream",
     "text": [
      "['Convertible' 'Coupe' 'Sedan' '4dr Hatchback' 'Wagon' '2dr Hatchback'\n",
      " '4dr SUV' 'Extended Cab Pickup' 'Crew Cab Pickup' 'Regular Cab Pickup'\n",
      " 'Passenger Minivan' '2dr SUV' 'Convertible SUV' 'Passenger Van']\n"
     ]
    }
   ],
   "source": [
    "# pull out the unique entries in the 'vehicle_style' column \n",
    "print(car_2017.vehicle_style.unique())"
   ]
  },
  {
   "cell_type": "code",
   "execution_count": 22,
   "metadata": {},
   "outputs": [
    {
     "name": "stdout",
     "output_type": "stream",
     "text": [
      "['Compact' 'Midsize' 'Large']\n"
     ]
    }
   ],
   "source": [
    "# pull out the unique entries in the 'vehicle_size' column \n",
    "print(car_2017.vehicle_size.unique())"
   ]
  },
  {
   "cell_type": "code",
   "execution_count": 23,
   "metadata": {},
   "outputs": [
    {
     "name": "stdout",
     "output_type": "stream",
     "text": [
      "['Performance' 'Factory Tuner,Luxury,High-Performance' 'Luxury,Performance'\n",
      " 'Luxury' 'Flex Fuel,Performance' 'Flex Fuel'\n",
      " 'Hatchback,Luxury,Performance' 'Hatchback,Luxury' 'Diesel,Luxury'\n",
      " 'Luxury,High-Performance' 'High-Performance'\n",
      " 'Factory Tuner,High-Performance' 'Hatchback' 'Hatchback,Performance'\n",
      " 'Hatchback,Factory Tuner,Performance' 'Factory Tuner,Performance'\n",
      " 'Crossover' 'Flex Fuel,Luxury' 'Hybrid'\n",
      " 'Exotic,Factory Tuner,Luxury,High-Performance'\n",
      " 'Crossover,Luxury,Performance' 'Crossover,Luxury'\n",
      " 'Crossover,Luxury,High-Performance' 'Hatchback,Luxury,Hybrid'\n",
      " 'Crossover,Performance' 'Crossover,Flex Fuel' 'Luxury,Hybrid'\n",
      " 'Exotic,High-Performance' 'Crossover,Flex Fuel,Performance'\n",
      " 'Hatchback,Factory Tuner,High-Performance' 'Hatchback,Flex Fuel'\n",
      " 'Exotic,Luxury,High-Performance'\n",
      " 'Crossover,Factory Tuner,Luxury,High-Performance'\n",
      " 'Crossover,Factory Tuner,Luxury,Performance'\n",
      " 'Crossover,Hatchback,Factory Tuner,Performance'\n",
      " 'Crossover,Hatchback,Performance' 'Crossover,Hatchback'\n",
      " 'Crossover,Exotic,Luxury,High-Performance'\n",
      " 'Crossover,Exotic,Luxury,Performance'\n",
      " 'Exotic,Luxury,High-Performance,Hybrid' 'Crossover,Luxury,Hybrid'\n",
      " 'Hatchback,Hybrid' 'Luxury,High-Performance,Hybrid'\n",
      " 'Crossover,Flex Fuel,Luxury' 'Crossover,Hybrid'\n",
      " 'Factory Tuner,Luxury,Performance' 'Diesel' 'Crossover,Luxury,Diesel']\n"
     ]
    }
   ],
   "source": [
    "# pull out the unique entries in the 'market_category' column \n",
    "print(car_2017.market_category.unique())"
   ]
  },
  {
   "cell_type": "code",
   "execution_count": 24,
   "metadata": {},
   "outputs": [
    {
     "name": "stdout",
     "output_type": "stream",
     "text": [
      "['MANUAL' 'AUTOMATIC' 'AUTOMATED_MANUAL' 'DIRECT_DRIVE']\n"
     ]
    }
   ],
   "source": [
    "# pull out the unique entries in the 'transmission_type' column \n",
    "print(car_2017.transmission_type.unique())"
   ]
  },
  {
   "cell_type": "markdown",
   "metadata": {},
   "source": [
    "- The vehicle style, vehicle size and transmission type all look like good searchable parameters \n",
    "- The market category column will appears to have a lot of overlap and may not be useful as a searchable parameter in this case "
   ]
  },
  {
   "cell_type": "markdown",
   "metadata": {},
   "source": [
    "### Design a user input filtering system to choose a car "
   ]
  },
  {
   "cell_type": "markdown",
   "metadata": {},
   "source": [
    "- Personally, I am interested in either an SUV or Hatchback car \n",
    "- For this small pilot style study, limit the options to these cars "
   ]
  },
  {
   "cell_type": "markdown",
   "metadata": {},
   "source": [
    "#### Question 1 - what sort of car?"
   ]
  },
  {
   "cell_type": "code",
   "execution_count": 26,
   "metadata": {},
   "outputs": [
    {
     "name": "stdout",
     "output_type": "stream",
     "text": [
      "Which sort of car are you interested in? A 4dr SUV, 4dr Hatchback or 2dr Hatchback? 4dr Hatchback\n"
     ]
    }
   ],
   "source": [
    "# ask the user what sort of car they are interested in\n",
    "# use the input functionality to allow the user to do this themselves \n",
    "# save the answer as a variable that can then be used to filter the data \n",
    "question_1 = input(\"Which sort of car are you interested in? A 4dr SUV, 4dr Hatchback or 2dr Hatchback? \")"
   ]
  },
  {
   "cell_type": "code",
   "execution_count": 27,
   "metadata": {},
   "outputs": [
    {
     "name": "stdout",
     "output_type": "stream",
     "text": [
      "4dr Hatchback\n"
     ]
    }
   ],
   "source": [
    "print(question_1)"
   ]
  },
  {
   "cell_type": "code",
   "execution_count": 28,
   "metadata": {},
   "outputs": [
    {
     "name": "stdout",
     "output_type": "stream",
     "text": [
      "Searching for 4dr Hatchback...\n"
     ]
    }
   ],
   "source": [
    "# write a conditional statement that will tell the user what type of car they inputted and produce a\n",
    "# a prompt to re-enter their answer if their answer is not a valid option \n",
    "if question_1 == '4dr SUV':\n",
    "    print(\"Searching for 4dr SUV...\")\n",
    "elif question_1 == \"4dr Hatchback\":\n",
    "    print(\"Searching for 4dr Hatchback...\")\n",
    "elif question_1 == \"2dr hatchback\":\n",
    "    print(\"Searching for 2dr Hatchback...\")\n",
    "else: \n",
    "    print(\"Cannot find find what you are looking for, please try again\")"
   ]
  },
  {
   "cell_type": "code",
   "execution_count": 29,
   "metadata": {},
   "outputs": [
    {
     "data": {
      "text/html": [
       "<div>\n",
       "<style>\n",
       "    .dataframe thead tr:only-child th {\n",
       "        text-align: right;\n",
       "    }\n",
       "\n",
       "    .dataframe thead th {\n",
       "        text-align: left;\n",
       "    }\n",
       "\n",
       "    .dataframe tbody tr th {\n",
       "        vertical-align: top;\n",
       "    }\n",
       "</style>\n",
       "<table border=\"1\" class=\"dataframe\">\n",
       "  <thead>\n",
       "    <tr style=\"text-align: right;\">\n",
       "      <th></th>\n",
       "      <th>make</th>\n",
       "      <th>model</th>\n",
       "      <th>year</th>\n",
       "      <th>engine_fuel_type</th>\n",
       "      <th>engine_HP</th>\n",
       "      <th>engine_cylinders</th>\n",
       "      <th>transmission_type</th>\n",
       "      <th>driven_wheels</th>\n",
       "      <th>number_of_doors</th>\n",
       "      <th>market_category</th>\n",
       "      <th>vehicle_size</th>\n",
       "      <th>vehicle_style</th>\n",
       "      <th>highway_mpg</th>\n",
       "      <th>city_mpg</th>\n",
       "      <th>popularity</th>\n",
       "      <th>MSRP</th>\n",
       "    </tr>\n",
       "  </thead>\n",
       "  <tbody>\n",
       "    <tr>\n",
       "      <th>129</th>\n",
       "      <td>BMW</td>\n",
       "      <td>3 Series Gran Turismo</td>\n",
       "      <td>2017</td>\n",
       "      <td>premium unleaded (required)</td>\n",
       "      <td>320.0</td>\n",
       "      <td>6.0</td>\n",
       "      <td>AUTOMATIC</td>\n",
       "      <td>all wheel drive</td>\n",
       "      <td>4.0</td>\n",
       "      <td>Hatchback,Luxury,Performance</td>\n",
       "      <td>Midsize</td>\n",
       "      <td>4dr Hatchback</td>\n",
       "      <td>30</td>\n",
       "      <td>20</td>\n",
       "      <td>3916</td>\n",
       "      <td>49650</td>\n",
       "    </tr>\n",
       "    <tr>\n",
       "      <th>130</th>\n",
       "      <td>BMW</td>\n",
       "      <td>3 Series Gran Turismo</td>\n",
       "      <td>2017</td>\n",
       "      <td>premium unleaded (required)</td>\n",
       "      <td>248.0</td>\n",
       "      <td>4.0</td>\n",
       "      <td>AUTOMATIC</td>\n",
       "      <td>all wheel drive</td>\n",
       "      <td>4.0</td>\n",
       "      <td>Hatchback,Luxury</td>\n",
       "      <td>Midsize</td>\n",
       "      <td>4dr Hatchback</td>\n",
       "      <td>33</td>\n",
       "      <td>23</td>\n",
       "      <td>3916</td>\n",
       "      <td>43950</td>\n",
       "    </tr>\n",
       "    <tr>\n",
       "      <th>402</th>\n",
       "      <td>Mazda</td>\n",
       "      <td>3</td>\n",
       "      <td>2017</td>\n",
       "      <td>regular unleaded</td>\n",
       "      <td>155.0</td>\n",
       "      <td>4.0</td>\n",
       "      <td>AUTOMATIC</td>\n",
       "      <td>front wheel drive</td>\n",
       "      <td>4.0</td>\n",
       "      <td>Hatchback</td>\n",
       "      <td>Compact</td>\n",
       "      <td>4dr Hatchback</td>\n",
       "      <td>37</td>\n",
       "      <td>28</td>\n",
       "      <td>586</td>\n",
       "      <td>20145</td>\n",
       "    </tr>\n",
       "    <tr>\n",
       "      <th>403</th>\n",
       "      <td>Mazda</td>\n",
       "      <td>3</td>\n",
       "      <td>2017</td>\n",
       "      <td>regular unleaded</td>\n",
       "      <td>184.0</td>\n",
       "      <td>4.0</td>\n",
       "      <td>AUTOMATIC</td>\n",
       "      <td>front wheel drive</td>\n",
       "      <td>4.0</td>\n",
       "      <td>Hatchback,Performance</td>\n",
       "      <td>Compact</td>\n",
       "      <td>4dr Hatchback</td>\n",
       "      <td>35</td>\n",
       "      <td>26</td>\n",
       "      <td>586</td>\n",
       "      <td>24945</td>\n",
       "    </tr>\n",
       "    <tr>\n",
       "      <th>404</th>\n",
       "      <td>Mazda</td>\n",
       "      <td>3</td>\n",
       "      <td>2017</td>\n",
       "      <td>regular unleaded</td>\n",
       "      <td>184.0</td>\n",
       "      <td>4.0</td>\n",
       "      <td>MANUAL</td>\n",
       "      <td>front wheel drive</td>\n",
       "      <td>4.0</td>\n",
       "      <td>Hatchback,Performance</td>\n",
       "      <td>Compact</td>\n",
       "      <td>4dr Hatchback</td>\n",
       "      <td>33</td>\n",
       "      <td>25</td>\n",
       "      <td>586</td>\n",
       "      <td>23895</td>\n",
       "    </tr>\n",
       "    <tr>\n",
       "      <th>405</th>\n",
       "      <td>Mazda</td>\n",
       "      <td>3</td>\n",
       "      <td>2017</td>\n",
       "      <td>regular unleaded</td>\n",
       "      <td>155.0</td>\n",
       "      <td>4.0</td>\n",
       "      <td>MANUAL</td>\n",
       "      <td>front wheel drive</td>\n",
       "      <td>4.0</td>\n",
       "      <td>Hatchback</td>\n",
       "      <td>Compact</td>\n",
       "      <td>4dr Hatchback</td>\n",
       "      <td>37</td>\n",
       "      <td>27</td>\n",
       "      <td>586</td>\n",
       "      <td>19095</td>\n",
       "    </tr>\n",
       "    <tr>\n",
       "      <th>406</th>\n",
       "      <td>Mazda</td>\n",
       "      <td>3</td>\n",
       "      <td>2017</td>\n",
       "      <td>regular unleaded</td>\n",
       "      <td>184.0</td>\n",
       "      <td>4.0</td>\n",
       "      <td>AUTOMATIC</td>\n",
       "      <td>front wheel drive</td>\n",
       "      <td>4.0</td>\n",
       "      <td>Hatchback,Performance</td>\n",
       "      <td>Compact</td>\n",
       "      <td>4dr Hatchback</td>\n",
       "      <td>35</td>\n",
       "      <td>26</td>\n",
       "      <td>586</td>\n",
       "      <td>23445</td>\n",
       "    </tr>\n",
       "    <tr>\n",
       "      <th>408</th>\n",
       "      <td>Mazda</td>\n",
       "      <td>3</td>\n",
       "      <td>2017</td>\n",
       "      <td>regular unleaded</td>\n",
       "      <td>155.0</td>\n",
       "      <td>4.0</td>\n",
       "      <td>AUTOMATIC</td>\n",
       "      <td>front wheel drive</td>\n",
       "      <td>4.0</td>\n",
       "      <td>Hatchback</td>\n",
       "      <td>Compact</td>\n",
       "      <td>4dr Hatchback</td>\n",
       "      <td>37</td>\n",
       "      <td>28</td>\n",
       "      <td>586</td>\n",
       "      <td>22245</td>\n",
       "    </tr>\n",
       "    <tr>\n",
       "      <th>409</th>\n",
       "      <td>Mazda</td>\n",
       "      <td>3</td>\n",
       "      <td>2017</td>\n",
       "      <td>regular unleaded</td>\n",
       "      <td>184.0</td>\n",
       "      <td>4.0</td>\n",
       "      <td>MANUAL</td>\n",
       "      <td>front wheel drive</td>\n",
       "      <td>4.0</td>\n",
       "      <td>Hatchback,Performance</td>\n",
       "      <td>Compact</td>\n",
       "      <td>4dr Hatchback</td>\n",
       "      <td>33</td>\n",
       "      <td>25</td>\n",
       "      <td>586</td>\n",
       "      <td>22395</td>\n",
       "    </tr>\n",
       "    <tr>\n",
       "      <th>512</th>\n",
       "      <td>BMW</td>\n",
       "      <td>5 Series Gran Turismo</td>\n",
       "      <td>2017</td>\n",
       "      <td>premium unleaded (required)</td>\n",
       "      <td>300.0</td>\n",
       "      <td>6.0</td>\n",
       "      <td>AUTOMATIC</td>\n",
       "      <td>all wheel drive</td>\n",
       "      <td>4.0</td>\n",
       "      <td>Hatchback,Luxury</td>\n",
       "      <td>Large</td>\n",
       "      <td>4dr Hatchback</td>\n",
       "      <td>26</td>\n",
       "      <td>18</td>\n",
       "      <td>3916</td>\n",
       "      <td>63200</td>\n",
       "    </tr>\n",
       "  </tbody>\n",
       "</table>\n",
       "</div>"
      ],
      "text/plain": [
       "      make                  model  year             engine_fuel_type  \\\n",
       "129    BMW  3 Series Gran Turismo  2017  premium unleaded (required)   \n",
       "130    BMW  3 Series Gran Turismo  2017  premium unleaded (required)   \n",
       "402  Mazda                      3  2017             regular unleaded   \n",
       "403  Mazda                      3  2017             regular unleaded   \n",
       "404  Mazda                      3  2017             regular unleaded   \n",
       "405  Mazda                      3  2017             regular unleaded   \n",
       "406  Mazda                      3  2017             regular unleaded   \n",
       "408  Mazda                      3  2017             regular unleaded   \n",
       "409  Mazda                      3  2017             regular unleaded   \n",
       "512    BMW  5 Series Gran Turismo  2017  premium unleaded (required)   \n",
       "\n",
       "     engine_HP  engine_cylinders transmission_type      driven_wheels  \\\n",
       "129      320.0               6.0         AUTOMATIC    all wheel drive   \n",
       "130      248.0               4.0         AUTOMATIC    all wheel drive   \n",
       "402      155.0               4.0         AUTOMATIC  front wheel drive   \n",
       "403      184.0               4.0         AUTOMATIC  front wheel drive   \n",
       "404      184.0               4.0            MANUAL  front wheel drive   \n",
       "405      155.0               4.0            MANUAL  front wheel drive   \n",
       "406      184.0               4.0         AUTOMATIC  front wheel drive   \n",
       "408      155.0               4.0         AUTOMATIC  front wheel drive   \n",
       "409      184.0               4.0            MANUAL  front wheel drive   \n",
       "512      300.0               6.0         AUTOMATIC    all wheel drive   \n",
       "\n",
       "     number_of_doors               market_category vehicle_size  \\\n",
       "129              4.0  Hatchback,Luxury,Performance      Midsize   \n",
       "130              4.0              Hatchback,Luxury      Midsize   \n",
       "402              4.0                     Hatchback      Compact   \n",
       "403              4.0         Hatchback,Performance      Compact   \n",
       "404              4.0         Hatchback,Performance      Compact   \n",
       "405              4.0                     Hatchback      Compact   \n",
       "406              4.0         Hatchback,Performance      Compact   \n",
       "408              4.0                     Hatchback      Compact   \n",
       "409              4.0         Hatchback,Performance      Compact   \n",
       "512              4.0              Hatchback,Luxury        Large   \n",
       "\n",
       "     vehicle_style  highway_mpg  city_mpg  popularity   MSRP  \n",
       "129  4dr Hatchback           30        20        3916  49650  \n",
       "130  4dr Hatchback           33        23        3916  43950  \n",
       "402  4dr Hatchback           37        28         586  20145  \n",
       "403  4dr Hatchback           35        26         586  24945  \n",
       "404  4dr Hatchback           33        25         586  23895  \n",
       "405  4dr Hatchback           37        27         586  19095  \n",
       "406  4dr Hatchback           35        26         586  23445  \n",
       "408  4dr Hatchback           37        28         586  22245  \n",
       "409  4dr Hatchback           33        25         586  22395  \n",
       "512  4dr Hatchback           26        18        3916  63200  "
      ]
     },
     "execution_count": 29,
     "metadata": {},
     "output_type": "execute_result"
    }
   ],
   "source": [
    "# now search the database for the inputted answer \n",
    "search_1 = car_2017.loc[car_2017['vehicle_style'] == question_1]\n",
    "search_1.head(n=10)"
   ]
  },
  {
   "cell_type": "code",
   "execution_count": 30,
   "metadata": {},
   "outputs": [
    {
     "name": "stdout",
     "output_type": "stream",
     "text": [
      "(115, 16)\n"
     ]
    }
   ],
   "source": [
    "### sanity check - make sure the data is getting smaller! \n",
    "print(search_1.shape)"
   ]
  },
  {
   "cell_type": "markdown",
   "metadata": {},
   "source": [
    "#### Question 2 - automatic or manual? "
   ]
  },
  {
   "cell_type": "code",
   "execution_count": 31,
   "metadata": {},
   "outputs": [
    {
     "name": "stdout",
     "output_type": "stream",
     "text": [
      "Would you like an AUTOMATIC or MANUAL transmission?AUTOMATIC\n"
     ]
    }
   ],
   "source": [
    "# ask the user what transmission type they are interested in, AUTOMATIC or MANUAL? \n",
    "# use the input functionality to allow the user to do this themselves \n",
    "# save the answer as the variable 'question_2' that can then be used to filter the data \n",
    "question_2 = input(\"Would you like an AUTOMATIC or MANUAL transmission?\")"
   ]
  },
  {
   "cell_type": "code",
   "execution_count": 32,
   "metadata": {},
   "outputs": [
    {
     "name": "stdout",
     "output_type": "stream",
     "text": [
      "AUTOMATIC\n"
     ]
    }
   ],
   "source": [
    "print(question_2)"
   ]
  },
  {
   "cell_type": "code",
   "execution_count": 33,
   "metadata": {},
   "outputs": [
    {
     "name": "stdout",
     "output_type": "stream",
     "text": [
      "Searching for cars with automatic transmission...\n"
     ]
    }
   ],
   "source": [
    "# write a conditional statement that will tell the user what type of transmission is being searched for\n",
    "# include a prompt to request the user to re-enter their answer if their answer is not a valid option \n",
    "if question_2 == 'AUTOMATIC':\n",
    "    print(\"Searching for cars with automatic transmission...\")\n",
    "elif question_2 == \"MANUAL\":\n",
    "    print(\"Searching for cars with manual transmission...\")\n",
    "else: \n",
    "    print(\"Cannot find find what you are looking for, please try again\")"
   ]
  },
  {
   "cell_type": "code",
   "execution_count": 34,
   "metadata": {},
   "outputs": [
    {
     "data": {
      "text/html": [
       "<div>\n",
       "<style>\n",
       "    .dataframe thead tr:only-child th {\n",
       "        text-align: right;\n",
       "    }\n",
       "\n",
       "    .dataframe thead th {\n",
       "        text-align: left;\n",
       "    }\n",
       "\n",
       "    .dataframe tbody tr th {\n",
       "        vertical-align: top;\n",
       "    }\n",
       "</style>\n",
       "<table border=\"1\" class=\"dataframe\">\n",
       "  <thead>\n",
       "    <tr style=\"text-align: right;\">\n",
       "      <th></th>\n",
       "      <th>make</th>\n",
       "      <th>model</th>\n",
       "      <th>year</th>\n",
       "      <th>engine_fuel_type</th>\n",
       "      <th>engine_HP</th>\n",
       "      <th>engine_cylinders</th>\n",
       "      <th>transmission_type</th>\n",
       "      <th>driven_wheels</th>\n",
       "      <th>number_of_doors</th>\n",
       "      <th>market_category</th>\n",
       "      <th>vehicle_size</th>\n",
       "      <th>vehicle_style</th>\n",
       "      <th>highway_mpg</th>\n",
       "      <th>city_mpg</th>\n",
       "      <th>popularity</th>\n",
       "      <th>MSRP</th>\n",
       "    </tr>\n",
       "  </thead>\n",
       "  <tbody>\n",
       "    <tr>\n",
       "      <th>129</th>\n",
       "      <td>BMW</td>\n",
       "      <td>3 Series Gran Turismo</td>\n",
       "      <td>2017</td>\n",
       "      <td>premium unleaded (required)</td>\n",
       "      <td>320.0</td>\n",
       "      <td>6.0</td>\n",
       "      <td>AUTOMATIC</td>\n",
       "      <td>all wheel drive</td>\n",
       "      <td>4.0</td>\n",
       "      <td>Hatchback,Luxury,Performance</td>\n",
       "      <td>Midsize</td>\n",
       "      <td>4dr Hatchback</td>\n",
       "      <td>30</td>\n",
       "      <td>20</td>\n",
       "      <td>3916</td>\n",
       "      <td>49650</td>\n",
       "    </tr>\n",
       "    <tr>\n",
       "      <th>130</th>\n",
       "      <td>BMW</td>\n",
       "      <td>3 Series Gran Turismo</td>\n",
       "      <td>2017</td>\n",
       "      <td>premium unleaded (required)</td>\n",
       "      <td>248.0</td>\n",
       "      <td>4.0</td>\n",
       "      <td>AUTOMATIC</td>\n",
       "      <td>all wheel drive</td>\n",
       "      <td>4.0</td>\n",
       "      <td>Hatchback,Luxury</td>\n",
       "      <td>Midsize</td>\n",
       "      <td>4dr Hatchback</td>\n",
       "      <td>33</td>\n",
       "      <td>23</td>\n",
       "      <td>3916</td>\n",
       "      <td>43950</td>\n",
       "    </tr>\n",
       "    <tr>\n",
       "      <th>402</th>\n",
       "      <td>Mazda</td>\n",
       "      <td>3</td>\n",
       "      <td>2017</td>\n",
       "      <td>regular unleaded</td>\n",
       "      <td>155.0</td>\n",
       "      <td>4.0</td>\n",
       "      <td>AUTOMATIC</td>\n",
       "      <td>front wheel drive</td>\n",
       "      <td>4.0</td>\n",
       "      <td>Hatchback</td>\n",
       "      <td>Compact</td>\n",
       "      <td>4dr Hatchback</td>\n",
       "      <td>37</td>\n",
       "      <td>28</td>\n",
       "      <td>586</td>\n",
       "      <td>20145</td>\n",
       "    </tr>\n",
       "    <tr>\n",
       "      <th>403</th>\n",
       "      <td>Mazda</td>\n",
       "      <td>3</td>\n",
       "      <td>2017</td>\n",
       "      <td>regular unleaded</td>\n",
       "      <td>184.0</td>\n",
       "      <td>4.0</td>\n",
       "      <td>AUTOMATIC</td>\n",
       "      <td>front wheel drive</td>\n",
       "      <td>4.0</td>\n",
       "      <td>Hatchback,Performance</td>\n",
       "      <td>Compact</td>\n",
       "      <td>4dr Hatchback</td>\n",
       "      <td>35</td>\n",
       "      <td>26</td>\n",
       "      <td>586</td>\n",
       "      <td>24945</td>\n",
       "    </tr>\n",
       "    <tr>\n",
       "      <th>406</th>\n",
       "      <td>Mazda</td>\n",
       "      <td>3</td>\n",
       "      <td>2017</td>\n",
       "      <td>regular unleaded</td>\n",
       "      <td>184.0</td>\n",
       "      <td>4.0</td>\n",
       "      <td>AUTOMATIC</td>\n",
       "      <td>front wheel drive</td>\n",
       "      <td>4.0</td>\n",
       "      <td>Hatchback,Performance</td>\n",
       "      <td>Compact</td>\n",
       "      <td>4dr Hatchback</td>\n",
       "      <td>35</td>\n",
       "      <td>26</td>\n",
       "      <td>586</td>\n",
       "      <td>23445</td>\n",
       "    </tr>\n",
       "    <tr>\n",
       "      <th>408</th>\n",
       "      <td>Mazda</td>\n",
       "      <td>3</td>\n",
       "      <td>2017</td>\n",
       "      <td>regular unleaded</td>\n",
       "      <td>155.0</td>\n",
       "      <td>4.0</td>\n",
       "      <td>AUTOMATIC</td>\n",
       "      <td>front wheel drive</td>\n",
       "      <td>4.0</td>\n",
       "      <td>Hatchback</td>\n",
       "      <td>Compact</td>\n",
       "      <td>4dr Hatchback</td>\n",
       "      <td>37</td>\n",
       "      <td>28</td>\n",
       "      <td>586</td>\n",
       "      <td>22245</td>\n",
       "    </tr>\n",
       "    <tr>\n",
       "      <th>512</th>\n",
       "      <td>BMW</td>\n",
       "      <td>5 Series Gran Turismo</td>\n",
       "      <td>2017</td>\n",
       "      <td>premium unleaded (required)</td>\n",
       "      <td>300.0</td>\n",
       "      <td>6.0</td>\n",
       "      <td>AUTOMATIC</td>\n",
       "      <td>all wheel drive</td>\n",
       "      <td>4.0</td>\n",
       "      <td>Hatchback,Luxury</td>\n",
       "      <td>Large</td>\n",
       "      <td>4dr Hatchback</td>\n",
       "      <td>26</td>\n",
       "      <td>18</td>\n",
       "      <td>3916</td>\n",
       "      <td>63200</td>\n",
       "    </tr>\n",
       "    <tr>\n",
       "      <th>513</th>\n",
       "      <td>BMW</td>\n",
       "      <td>5 Series Gran Turismo</td>\n",
       "      <td>2017</td>\n",
       "      <td>premium unleaded (required)</td>\n",
       "      <td>300.0</td>\n",
       "      <td>6.0</td>\n",
       "      <td>AUTOMATIC</td>\n",
       "      <td>rear wheel drive</td>\n",
       "      <td>4.0</td>\n",
       "      <td>Hatchback,Luxury,Performance</td>\n",
       "      <td>Large</td>\n",
       "      <td>4dr Hatchback</td>\n",
       "      <td>27</td>\n",
       "      <td>19</td>\n",
       "      <td>3916</td>\n",
       "      <td>60900</td>\n",
       "    </tr>\n",
       "    <tr>\n",
       "      <th>514</th>\n",
       "      <td>BMW</td>\n",
       "      <td>5 Series Gran Turismo</td>\n",
       "      <td>2017</td>\n",
       "      <td>premium unleaded (required)</td>\n",
       "      <td>445.0</td>\n",
       "      <td>8.0</td>\n",
       "      <td>AUTOMATIC</td>\n",
       "      <td>all wheel drive</td>\n",
       "      <td>4.0</td>\n",
       "      <td>Hatchback,Luxury,Performance</td>\n",
       "      <td>Large</td>\n",
       "      <td>4dr Hatchback</td>\n",
       "      <td>24</td>\n",
       "      <td>15</td>\n",
       "      <td>3916</td>\n",
       "      <td>72500</td>\n",
       "    </tr>\n",
       "    <tr>\n",
       "      <th>2588</th>\n",
       "      <td>Honda</td>\n",
       "      <td>Civic</td>\n",
       "      <td>2017</td>\n",
       "      <td>regular unleaded</td>\n",
       "      <td>174.0</td>\n",
       "      <td>4.0</td>\n",
       "      <td>AUTOMATIC</td>\n",
       "      <td>front wheel drive</td>\n",
       "      <td>4.0</td>\n",
       "      <td>Hatchback,Performance</td>\n",
       "      <td>Compact</td>\n",
       "      <td>4dr Hatchback</td>\n",
       "      <td>40</td>\n",
       "      <td>31</td>\n",
       "      <td>2202</td>\n",
       "      <td>25300</td>\n",
       "    </tr>\n",
       "  </tbody>\n",
       "</table>\n",
       "</div>"
      ],
      "text/plain": [
       "       make                  model  year             engine_fuel_type  \\\n",
       "129     BMW  3 Series Gran Turismo  2017  premium unleaded (required)   \n",
       "130     BMW  3 Series Gran Turismo  2017  premium unleaded (required)   \n",
       "402   Mazda                      3  2017             regular unleaded   \n",
       "403   Mazda                      3  2017             regular unleaded   \n",
       "406   Mazda                      3  2017             regular unleaded   \n",
       "408   Mazda                      3  2017             regular unleaded   \n",
       "512     BMW  5 Series Gran Turismo  2017  premium unleaded (required)   \n",
       "513     BMW  5 Series Gran Turismo  2017  premium unleaded (required)   \n",
       "514     BMW  5 Series Gran Turismo  2017  premium unleaded (required)   \n",
       "2588  Honda                  Civic  2017             regular unleaded   \n",
       "\n",
       "      engine_HP  engine_cylinders transmission_type      driven_wheels  \\\n",
       "129       320.0               6.0         AUTOMATIC    all wheel drive   \n",
       "130       248.0               4.0         AUTOMATIC    all wheel drive   \n",
       "402       155.0               4.0         AUTOMATIC  front wheel drive   \n",
       "403       184.0               4.0         AUTOMATIC  front wheel drive   \n",
       "406       184.0               4.0         AUTOMATIC  front wheel drive   \n",
       "408       155.0               4.0         AUTOMATIC  front wheel drive   \n",
       "512       300.0               6.0         AUTOMATIC    all wheel drive   \n",
       "513       300.0               6.0         AUTOMATIC   rear wheel drive   \n",
       "514       445.0               8.0         AUTOMATIC    all wheel drive   \n",
       "2588      174.0               4.0         AUTOMATIC  front wheel drive   \n",
       "\n",
       "      number_of_doors               market_category vehicle_size  \\\n",
       "129               4.0  Hatchback,Luxury,Performance      Midsize   \n",
       "130               4.0              Hatchback,Luxury      Midsize   \n",
       "402               4.0                     Hatchback      Compact   \n",
       "403               4.0         Hatchback,Performance      Compact   \n",
       "406               4.0         Hatchback,Performance      Compact   \n",
       "408               4.0                     Hatchback      Compact   \n",
       "512               4.0              Hatchback,Luxury        Large   \n",
       "513               4.0  Hatchback,Luxury,Performance        Large   \n",
       "514               4.0  Hatchback,Luxury,Performance        Large   \n",
       "2588              4.0         Hatchback,Performance      Compact   \n",
       "\n",
       "      vehicle_style  highway_mpg  city_mpg  popularity   MSRP  \n",
       "129   4dr Hatchback           30        20        3916  49650  \n",
       "130   4dr Hatchback           33        23        3916  43950  \n",
       "402   4dr Hatchback           37        28         586  20145  \n",
       "403   4dr Hatchback           35        26         586  24945  \n",
       "406   4dr Hatchback           35        26         586  23445  \n",
       "408   4dr Hatchback           37        28         586  22245  \n",
       "512   4dr Hatchback           26        18        3916  63200  \n",
       "513   4dr Hatchback           27        19        3916  60900  \n",
       "514   4dr Hatchback           24        15        3916  72500  \n",
       "2588  4dr Hatchback           40        31        2202  25300  "
      ]
     },
     "execution_count": 34,
     "metadata": {},
     "output_type": "execute_result"
    }
   ],
   "source": [
    "# now search the database for the inputted answer \n",
    "search_2 = search_1.loc[search_1['transmission_type'] == question_2]\n",
    "search_2.head(n=10)"
   ]
  },
  {
   "cell_type": "code",
   "execution_count": 35,
   "metadata": {},
   "outputs": [
    {
     "name": "stdout",
     "output_type": "stream",
     "text": [
      "(65, 16)\n"
     ]
    }
   ],
   "source": [
    "### sanity check - is the data getting smaller?!\n",
    "print(search_2.shape)"
   ]
  },
  {
   "cell_type": "markdown",
   "metadata": {},
   "source": [
    "#### Question 3 - what size car? "
   ]
  },
  {
   "cell_type": "code",
   "execution_count": 36,
   "metadata": {},
   "outputs": [
    {
     "name": "stdout",
     "output_type": "stream",
     "text": [
      "What size car would you like, Compact, Midsize or Large?Compact\n"
     ]
    }
   ],
   "source": [
    "# ask the user what size car they are interested in, compact, midsize or large \n",
    "# use the input functionality to allow the user to do this themselves \n",
    "# save the answer as the variable 'question_3' that can then be used to filter the data \n",
    "question_3 = input(\"What size car would you like, Compact, Midsize or Large?\")"
   ]
  },
  {
   "cell_type": "code",
   "execution_count": 37,
   "metadata": {},
   "outputs": [
    {
     "name": "stdout",
     "output_type": "stream",
     "text": [
      "Compact\n"
     ]
    }
   ],
   "source": [
    "print(question_3)"
   ]
  },
  {
   "cell_type": "code",
   "execution_count": 38,
   "metadata": {},
   "outputs": [
    {
     "name": "stdout",
     "output_type": "stream",
     "text": [
      "Searching for Compact cars...\n"
     ]
    }
   ],
   "source": [
    "# write a conditional statement that will tell the user what size car is being searched for\n",
    "# include a prompt to request the user to re-enter their answer if their answer is not a valid option \n",
    "if question_3 == 'Compact':\n",
    "    print(\"Searching for Compact cars...\")\n",
    "elif question_3 == \"Midsize\":\n",
    "    print(\"Searching for Midsize cars...\")\n",
    "elif question_3 == \"2dr hatchback\":\n",
    "    print(\"Searching for Large cars...\")\n",
    "else: \n",
    "    print(\"Cannot find find what you are looking for, please try again\")"
   ]
  },
  {
   "cell_type": "code",
   "execution_count": 39,
   "metadata": {},
   "outputs": [
    {
     "data": {
      "text/html": [
       "<div>\n",
       "<style>\n",
       "    .dataframe thead tr:only-child th {\n",
       "        text-align: right;\n",
       "    }\n",
       "\n",
       "    .dataframe thead th {\n",
       "        text-align: left;\n",
       "    }\n",
       "\n",
       "    .dataframe tbody tr th {\n",
       "        vertical-align: top;\n",
       "    }\n",
       "</style>\n",
       "<table border=\"1\" class=\"dataframe\">\n",
       "  <thead>\n",
       "    <tr style=\"text-align: right;\">\n",
       "      <th></th>\n",
       "      <th>make</th>\n",
       "      <th>model</th>\n",
       "      <th>year</th>\n",
       "      <th>engine_fuel_type</th>\n",
       "      <th>engine_HP</th>\n",
       "      <th>engine_cylinders</th>\n",
       "      <th>transmission_type</th>\n",
       "      <th>driven_wheels</th>\n",
       "      <th>number_of_doors</th>\n",
       "      <th>market_category</th>\n",
       "      <th>vehicle_size</th>\n",
       "      <th>vehicle_style</th>\n",
       "      <th>highway_mpg</th>\n",
       "      <th>city_mpg</th>\n",
       "      <th>popularity</th>\n",
       "      <th>MSRP</th>\n",
       "    </tr>\n",
       "  </thead>\n",
       "  <tbody>\n",
       "    <tr>\n",
       "      <th>402</th>\n",
       "      <td>Mazda</td>\n",
       "      <td>3</td>\n",
       "      <td>2017</td>\n",
       "      <td>regular unleaded</td>\n",
       "      <td>155.0</td>\n",
       "      <td>4.0</td>\n",
       "      <td>AUTOMATIC</td>\n",
       "      <td>front wheel drive</td>\n",
       "      <td>4.0</td>\n",
       "      <td>Hatchback</td>\n",
       "      <td>Compact</td>\n",
       "      <td>4dr Hatchback</td>\n",
       "      <td>37</td>\n",
       "      <td>28</td>\n",
       "      <td>586</td>\n",
       "      <td>20145</td>\n",
       "    </tr>\n",
       "    <tr>\n",
       "      <th>403</th>\n",
       "      <td>Mazda</td>\n",
       "      <td>3</td>\n",
       "      <td>2017</td>\n",
       "      <td>regular unleaded</td>\n",
       "      <td>184.0</td>\n",
       "      <td>4.0</td>\n",
       "      <td>AUTOMATIC</td>\n",
       "      <td>front wheel drive</td>\n",
       "      <td>4.0</td>\n",
       "      <td>Hatchback,Performance</td>\n",
       "      <td>Compact</td>\n",
       "      <td>4dr Hatchback</td>\n",
       "      <td>35</td>\n",
       "      <td>26</td>\n",
       "      <td>586</td>\n",
       "      <td>24945</td>\n",
       "    </tr>\n",
       "    <tr>\n",
       "      <th>406</th>\n",
       "      <td>Mazda</td>\n",
       "      <td>3</td>\n",
       "      <td>2017</td>\n",
       "      <td>regular unleaded</td>\n",
       "      <td>184.0</td>\n",
       "      <td>4.0</td>\n",
       "      <td>AUTOMATIC</td>\n",
       "      <td>front wheel drive</td>\n",
       "      <td>4.0</td>\n",
       "      <td>Hatchback,Performance</td>\n",
       "      <td>Compact</td>\n",
       "      <td>4dr Hatchback</td>\n",
       "      <td>35</td>\n",
       "      <td>26</td>\n",
       "      <td>586</td>\n",
       "      <td>23445</td>\n",
       "    </tr>\n",
       "    <tr>\n",
       "      <th>408</th>\n",
       "      <td>Mazda</td>\n",
       "      <td>3</td>\n",
       "      <td>2017</td>\n",
       "      <td>regular unleaded</td>\n",
       "      <td>155.0</td>\n",
       "      <td>4.0</td>\n",
       "      <td>AUTOMATIC</td>\n",
       "      <td>front wheel drive</td>\n",
       "      <td>4.0</td>\n",
       "      <td>Hatchback</td>\n",
       "      <td>Compact</td>\n",
       "      <td>4dr Hatchback</td>\n",
       "      <td>37</td>\n",
       "      <td>28</td>\n",
       "      <td>586</td>\n",
       "      <td>22245</td>\n",
       "    </tr>\n",
       "    <tr>\n",
       "      <th>2588</th>\n",
       "      <td>Honda</td>\n",
       "      <td>Civic</td>\n",
       "      <td>2017</td>\n",
       "      <td>regular unleaded</td>\n",
       "      <td>174.0</td>\n",
       "      <td>4.0</td>\n",
       "      <td>AUTOMATIC</td>\n",
       "      <td>front wheel drive</td>\n",
       "      <td>4.0</td>\n",
       "      <td>Hatchback,Performance</td>\n",
       "      <td>Compact</td>\n",
       "      <td>4dr Hatchback</td>\n",
       "      <td>40</td>\n",
       "      <td>31</td>\n",
       "      <td>2202</td>\n",
       "      <td>25300</td>\n",
       "    </tr>\n",
       "    <tr>\n",
       "      <th>2589</th>\n",
       "      <td>Honda</td>\n",
       "      <td>Civic</td>\n",
       "      <td>2017</td>\n",
       "      <td>regular unleaded</td>\n",
       "      <td>174.0</td>\n",
       "      <td>4.0</td>\n",
       "      <td>AUTOMATIC</td>\n",
       "      <td>front wheel drive</td>\n",
       "      <td>4.0</td>\n",
       "      <td>Hatchback,Performance</td>\n",
       "      <td>Compact</td>\n",
       "      <td>4dr Hatchback</td>\n",
       "      <td>40</td>\n",
       "      <td>31</td>\n",
       "      <td>2202</td>\n",
       "      <td>22800</td>\n",
       "    </tr>\n",
       "    <tr>\n",
       "      <th>2590</th>\n",
       "      <td>Honda</td>\n",
       "      <td>Civic</td>\n",
       "      <td>2017</td>\n",
       "      <td>regular unleaded</td>\n",
       "      <td>174.0</td>\n",
       "      <td>4.0</td>\n",
       "      <td>AUTOMATIC</td>\n",
       "      <td>front wheel drive</td>\n",
       "      <td>4.0</td>\n",
       "      <td>Hatchback</td>\n",
       "      <td>Compact</td>\n",
       "      <td>4dr Hatchback</td>\n",
       "      <td>40</td>\n",
       "      <td>31</td>\n",
       "      <td>2202</td>\n",
       "      <td>20500</td>\n",
       "    </tr>\n",
       "    <tr>\n",
       "      <th>2591</th>\n",
       "      <td>Honda</td>\n",
       "      <td>Civic</td>\n",
       "      <td>2017</td>\n",
       "      <td>premium unleaded (recommended)</td>\n",
       "      <td>180.0</td>\n",
       "      <td>4.0</td>\n",
       "      <td>AUTOMATIC</td>\n",
       "      <td>front wheel drive</td>\n",
       "      <td>4.0</td>\n",
       "      <td>Hatchback,Performance</td>\n",
       "      <td>Compact</td>\n",
       "      <td>4dr Hatchback</td>\n",
       "      <td>36</td>\n",
       "      <td>30</td>\n",
       "      <td>2202</td>\n",
       "      <td>22100</td>\n",
       "    </tr>\n",
       "    <tr>\n",
       "      <th>2923</th>\n",
       "      <td>Toyota</td>\n",
       "      <td>Corolla iM</td>\n",
       "      <td>2017</td>\n",
       "      <td>regular unleaded</td>\n",
       "      <td>137.0</td>\n",
       "      <td>4.0</td>\n",
       "      <td>AUTOMATIC</td>\n",
       "      <td>front wheel drive</td>\n",
       "      <td>4.0</td>\n",
       "      <td>Hatchback</td>\n",
       "      <td>Compact</td>\n",
       "      <td>4dr Hatchback</td>\n",
       "      <td>36</td>\n",
       "      <td>28</td>\n",
       "      <td>2031</td>\n",
       "      <td>19490</td>\n",
       "    </tr>\n",
       "    <tr>\n",
       "      <th>3164</th>\n",
       "      <td>Chevrolet</td>\n",
       "      <td>Cruze</td>\n",
       "      <td>2017</td>\n",
       "      <td>regular unleaded</td>\n",
       "      <td>153.0</td>\n",
       "      <td>4.0</td>\n",
       "      <td>AUTOMATIC</td>\n",
       "      <td>front wheel drive</td>\n",
       "      <td>4.0</td>\n",
       "      <td>Hatchback</td>\n",
       "      <td>Compact</td>\n",
       "      <td>4dr Hatchback</td>\n",
       "      <td>38</td>\n",
       "      <td>29</td>\n",
       "      <td>1385</td>\n",
       "      <td>21920</td>\n",
       "    </tr>\n",
       "  </tbody>\n",
       "</table>\n",
       "</div>"
      ],
      "text/plain": [
       "           make       model  year                engine_fuel_type  engine_HP  \\\n",
       "402       Mazda           3  2017                regular unleaded      155.0   \n",
       "403       Mazda           3  2017                regular unleaded      184.0   \n",
       "406       Mazda           3  2017                regular unleaded      184.0   \n",
       "408       Mazda           3  2017                regular unleaded      155.0   \n",
       "2588      Honda       Civic  2017                regular unleaded      174.0   \n",
       "2589      Honda       Civic  2017                regular unleaded      174.0   \n",
       "2590      Honda       Civic  2017                regular unleaded      174.0   \n",
       "2591      Honda       Civic  2017  premium unleaded (recommended)      180.0   \n",
       "2923     Toyota  Corolla iM  2017                regular unleaded      137.0   \n",
       "3164  Chevrolet       Cruze  2017                regular unleaded      153.0   \n",
       "\n",
       "      engine_cylinders transmission_type      driven_wheels  number_of_doors  \\\n",
       "402                4.0         AUTOMATIC  front wheel drive              4.0   \n",
       "403                4.0         AUTOMATIC  front wheel drive              4.0   \n",
       "406                4.0         AUTOMATIC  front wheel drive              4.0   \n",
       "408                4.0         AUTOMATIC  front wheel drive              4.0   \n",
       "2588               4.0         AUTOMATIC  front wheel drive              4.0   \n",
       "2589               4.0         AUTOMATIC  front wheel drive              4.0   \n",
       "2590               4.0         AUTOMATIC  front wheel drive              4.0   \n",
       "2591               4.0         AUTOMATIC  front wheel drive              4.0   \n",
       "2923               4.0         AUTOMATIC  front wheel drive              4.0   \n",
       "3164               4.0         AUTOMATIC  front wheel drive              4.0   \n",
       "\n",
       "            market_category vehicle_size  vehicle_style  highway_mpg  \\\n",
       "402               Hatchback      Compact  4dr Hatchback           37   \n",
       "403   Hatchback,Performance      Compact  4dr Hatchback           35   \n",
       "406   Hatchback,Performance      Compact  4dr Hatchback           35   \n",
       "408               Hatchback      Compact  4dr Hatchback           37   \n",
       "2588  Hatchback,Performance      Compact  4dr Hatchback           40   \n",
       "2589  Hatchback,Performance      Compact  4dr Hatchback           40   \n",
       "2590              Hatchback      Compact  4dr Hatchback           40   \n",
       "2591  Hatchback,Performance      Compact  4dr Hatchback           36   \n",
       "2923              Hatchback      Compact  4dr Hatchback           36   \n",
       "3164              Hatchback      Compact  4dr Hatchback           38   \n",
       "\n",
       "      city_mpg  popularity   MSRP  \n",
       "402         28         586  20145  \n",
       "403         26         586  24945  \n",
       "406         26         586  23445  \n",
       "408         28         586  22245  \n",
       "2588        31        2202  25300  \n",
       "2589        31        2202  22800  \n",
       "2590        31        2202  20500  \n",
       "2591        30        2202  22100  \n",
       "2923        28        2031  19490  \n",
       "3164        29        1385  21920  "
      ]
     },
     "execution_count": 39,
     "metadata": {},
     "output_type": "execute_result"
    }
   ],
   "source": [
    "# now search the database for the inputted answer \n",
    "search_3 = search_2.loc[search_2['vehicle_size'] == question_3]\n",
    "search_3.head(n=10)"
   ]
  },
  {
   "cell_type": "code",
   "execution_count": 40,
   "metadata": {},
   "outputs": [
    {
     "name": "stdout",
     "output_type": "stream",
     "text": [
      "(60, 16)\n"
     ]
    }
   ],
   "source": [
    "### sanity check - is the data getting smaller?! \n",
    "print(search_3.shape)"
   ]
  },
  {
   "cell_type": "markdown",
   "metadata": {},
   "source": [
    "#### Question 4 - how much do you want to spend? "
   ]
  },
  {
   "cell_type": "code",
   "execution_count": 41,
   "metadata": {},
   "outputs": [
    {
     "name": "stdout",
     "output_type": "stream",
     "text": [
      "How much do you want to spend? <20000 or >20000? >20000\n"
     ]
    }
   ],
   "source": [
    "question_4 = input (\"How much do you want to spend? <20000 or >20000? \")"
   ]
  },
  {
   "cell_type": "code",
   "execution_count": 42,
   "metadata": {},
   "outputs": [
    {
     "name": "stdout",
     "output_type": "stream",
     "text": [
      ">20000\n"
     ]
    }
   ],
   "source": [
    "print(question_4)"
   ]
  },
  {
   "cell_type": "code",
   "execution_count": 43,
   "metadata": {},
   "outputs": [
    {
     "name": "stdout",
     "output_type": "stream",
     "text": [
      "Searching for cars that cost more than 20,000 dollars...\n"
     ]
    }
   ],
   "source": [
    "# write a conditional statement that will tell the user what price of car is being searched for\n",
    "# include a prompt to request the user to re-enter their answer if their answer is not a valid option \n",
    "if question_4 == '<20000':\n",
    "    print(\"Searching for cars that cost less than 20,000 dollars...\")\n",
    "elif question_4 == \">20000\":\n",
    "    print(\"Searching for cars that cost more than 20,000 dollars...\")\n",
    "else: \n",
    "    print(\"Cannot find find what you are looking for, please try again\")"
   ]
  },
  {
   "cell_type": "code",
   "execution_count": 44,
   "metadata": {
    "collapsed": true
   },
   "outputs": [],
   "source": [
    "# the answer to question 4 is a string, it needs to be a integer to perform the filtering step\n",
    "# first remove the first character\n",
    "question_4a = question_4[1:]\n",
    "\n",
    "# now create a new variable, question_4b, that contains question 4a as an integer \n",
    "question_4b = int(question_4a)"
   ]
  },
  {
   "cell_type": "code",
   "execution_count": 45,
   "metadata": {},
   "outputs": [
    {
     "data": {
      "text/plain": [
       "int"
      ]
     },
     "execution_count": 45,
     "metadata": {},
     "output_type": "execute_result"
    }
   ],
   "source": [
    "### sanity check - what data type is 'question_4b'? \n",
    "type(question_4b)"
   ]
  },
  {
   "cell_type": "code",
   "execution_count": 46,
   "metadata": {},
   "outputs": [
    {
     "data": {
      "text/html": [
       "<div>\n",
       "<style>\n",
       "    .dataframe thead tr:only-child th {\n",
       "        text-align: right;\n",
       "    }\n",
       "\n",
       "    .dataframe thead th {\n",
       "        text-align: left;\n",
       "    }\n",
       "\n",
       "    .dataframe tbody tr th {\n",
       "        vertical-align: top;\n",
       "    }\n",
       "</style>\n",
       "<table border=\"1\" class=\"dataframe\">\n",
       "  <thead>\n",
       "    <tr style=\"text-align: right;\">\n",
       "      <th></th>\n",
       "      <th>make</th>\n",
       "      <th>model</th>\n",
       "      <th>year</th>\n",
       "      <th>engine_fuel_type</th>\n",
       "      <th>engine_HP</th>\n",
       "      <th>engine_cylinders</th>\n",
       "      <th>transmission_type</th>\n",
       "      <th>driven_wheels</th>\n",
       "      <th>number_of_doors</th>\n",
       "      <th>market_category</th>\n",
       "      <th>vehicle_size</th>\n",
       "      <th>vehicle_style</th>\n",
       "      <th>highway_mpg</th>\n",
       "      <th>city_mpg</th>\n",
       "      <th>popularity</th>\n",
       "      <th>MSRP</th>\n",
       "    </tr>\n",
       "  </thead>\n",
       "  <tbody>\n",
       "    <tr>\n",
       "      <th>402</th>\n",
       "      <td>Mazda</td>\n",
       "      <td>3</td>\n",
       "      <td>2017</td>\n",
       "      <td>regular unleaded</td>\n",
       "      <td>155.0</td>\n",
       "      <td>4.0</td>\n",
       "      <td>AUTOMATIC</td>\n",
       "      <td>front wheel drive</td>\n",
       "      <td>4.0</td>\n",
       "      <td>Hatchback</td>\n",
       "      <td>Compact</td>\n",
       "      <td>4dr Hatchback</td>\n",
       "      <td>37</td>\n",
       "      <td>28</td>\n",
       "      <td>586</td>\n",
       "      <td>20145</td>\n",
       "    </tr>\n",
       "    <tr>\n",
       "      <th>403</th>\n",
       "      <td>Mazda</td>\n",
       "      <td>3</td>\n",
       "      <td>2017</td>\n",
       "      <td>regular unleaded</td>\n",
       "      <td>184.0</td>\n",
       "      <td>4.0</td>\n",
       "      <td>AUTOMATIC</td>\n",
       "      <td>front wheel drive</td>\n",
       "      <td>4.0</td>\n",
       "      <td>Hatchback,Performance</td>\n",
       "      <td>Compact</td>\n",
       "      <td>4dr Hatchback</td>\n",
       "      <td>35</td>\n",
       "      <td>26</td>\n",
       "      <td>586</td>\n",
       "      <td>24945</td>\n",
       "    </tr>\n",
       "    <tr>\n",
       "      <th>406</th>\n",
       "      <td>Mazda</td>\n",
       "      <td>3</td>\n",
       "      <td>2017</td>\n",
       "      <td>regular unleaded</td>\n",
       "      <td>184.0</td>\n",
       "      <td>4.0</td>\n",
       "      <td>AUTOMATIC</td>\n",
       "      <td>front wheel drive</td>\n",
       "      <td>4.0</td>\n",
       "      <td>Hatchback,Performance</td>\n",
       "      <td>Compact</td>\n",
       "      <td>4dr Hatchback</td>\n",
       "      <td>35</td>\n",
       "      <td>26</td>\n",
       "      <td>586</td>\n",
       "      <td>23445</td>\n",
       "    </tr>\n",
       "    <tr>\n",
       "      <th>408</th>\n",
       "      <td>Mazda</td>\n",
       "      <td>3</td>\n",
       "      <td>2017</td>\n",
       "      <td>regular unleaded</td>\n",
       "      <td>155.0</td>\n",
       "      <td>4.0</td>\n",
       "      <td>AUTOMATIC</td>\n",
       "      <td>front wheel drive</td>\n",
       "      <td>4.0</td>\n",
       "      <td>Hatchback</td>\n",
       "      <td>Compact</td>\n",
       "      <td>4dr Hatchback</td>\n",
       "      <td>37</td>\n",
       "      <td>28</td>\n",
       "      <td>586</td>\n",
       "      <td>22245</td>\n",
       "    </tr>\n",
       "    <tr>\n",
       "      <th>2588</th>\n",
       "      <td>Honda</td>\n",
       "      <td>Civic</td>\n",
       "      <td>2017</td>\n",
       "      <td>regular unleaded</td>\n",
       "      <td>174.0</td>\n",
       "      <td>4.0</td>\n",
       "      <td>AUTOMATIC</td>\n",
       "      <td>front wheel drive</td>\n",
       "      <td>4.0</td>\n",
       "      <td>Hatchback,Performance</td>\n",
       "      <td>Compact</td>\n",
       "      <td>4dr Hatchback</td>\n",
       "      <td>40</td>\n",
       "      <td>31</td>\n",
       "      <td>2202</td>\n",
       "      <td>25300</td>\n",
       "    </tr>\n",
       "    <tr>\n",
       "      <th>2589</th>\n",
       "      <td>Honda</td>\n",
       "      <td>Civic</td>\n",
       "      <td>2017</td>\n",
       "      <td>regular unleaded</td>\n",
       "      <td>174.0</td>\n",
       "      <td>4.0</td>\n",
       "      <td>AUTOMATIC</td>\n",
       "      <td>front wheel drive</td>\n",
       "      <td>4.0</td>\n",
       "      <td>Hatchback,Performance</td>\n",
       "      <td>Compact</td>\n",
       "      <td>4dr Hatchback</td>\n",
       "      <td>40</td>\n",
       "      <td>31</td>\n",
       "      <td>2202</td>\n",
       "      <td>22800</td>\n",
       "    </tr>\n",
       "    <tr>\n",
       "      <th>2590</th>\n",
       "      <td>Honda</td>\n",
       "      <td>Civic</td>\n",
       "      <td>2017</td>\n",
       "      <td>regular unleaded</td>\n",
       "      <td>174.0</td>\n",
       "      <td>4.0</td>\n",
       "      <td>AUTOMATIC</td>\n",
       "      <td>front wheel drive</td>\n",
       "      <td>4.0</td>\n",
       "      <td>Hatchback</td>\n",
       "      <td>Compact</td>\n",
       "      <td>4dr Hatchback</td>\n",
       "      <td>40</td>\n",
       "      <td>31</td>\n",
       "      <td>2202</td>\n",
       "      <td>20500</td>\n",
       "    </tr>\n",
       "    <tr>\n",
       "      <th>2591</th>\n",
       "      <td>Honda</td>\n",
       "      <td>Civic</td>\n",
       "      <td>2017</td>\n",
       "      <td>premium unleaded (recommended)</td>\n",
       "      <td>180.0</td>\n",
       "      <td>4.0</td>\n",
       "      <td>AUTOMATIC</td>\n",
       "      <td>front wheel drive</td>\n",
       "      <td>4.0</td>\n",
       "      <td>Hatchback,Performance</td>\n",
       "      <td>Compact</td>\n",
       "      <td>4dr Hatchback</td>\n",
       "      <td>36</td>\n",
       "      <td>30</td>\n",
       "      <td>2202</td>\n",
       "      <td>22100</td>\n",
       "    </tr>\n",
       "    <tr>\n",
       "      <th>3164</th>\n",
       "      <td>Chevrolet</td>\n",
       "      <td>Cruze</td>\n",
       "      <td>2017</td>\n",
       "      <td>regular unleaded</td>\n",
       "      <td>153.0</td>\n",
       "      <td>4.0</td>\n",
       "      <td>AUTOMATIC</td>\n",
       "      <td>front wheel drive</td>\n",
       "      <td>4.0</td>\n",
       "      <td>Hatchback</td>\n",
       "      <td>Compact</td>\n",
       "      <td>4dr Hatchback</td>\n",
       "      <td>38</td>\n",
       "      <td>29</td>\n",
       "      <td>1385</td>\n",
       "      <td>21920</td>\n",
       "    </tr>\n",
       "    <tr>\n",
       "      <th>3172</th>\n",
       "      <td>Chevrolet</td>\n",
       "      <td>Cruze</td>\n",
       "      <td>2017</td>\n",
       "      <td>regular unleaded</td>\n",
       "      <td>153.0</td>\n",
       "      <td>4.0</td>\n",
       "      <td>AUTOMATIC</td>\n",
       "      <td>front wheel drive</td>\n",
       "      <td>4.0</td>\n",
       "      <td>Hatchback</td>\n",
       "      <td>Compact</td>\n",
       "      <td>4dr Hatchback</td>\n",
       "      <td>37</td>\n",
       "      <td>28</td>\n",
       "      <td>1385</td>\n",
       "      <td>23945</td>\n",
       "    </tr>\n",
       "  </tbody>\n",
       "</table>\n",
       "</div>"
      ],
      "text/plain": [
       "           make  model  year                engine_fuel_type  engine_HP  \\\n",
       "402       Mazda      3  2017                regular unleaded      155.0   \n",
       "403       Mazda      3  2017                regular unleaded      184.0   \n",
       "406       Mazda      3  2017                regular unleaded      184.0   \n",
       "408       Mazda      3  2017                regular unleaded      155.0   \n",
       "2588      Honda  Civic  2017                regular unleaded      174.0   \n",
       "2589      Honda  Civic  2017                regular unleaded      174.0   \n",
       "2590      Honda  Civic  2017                regular unleaded      174.0   \n",
       "2591      Honda  Civic  2017  premium unleaded (recommended)      180.0   \n",
       "3164  Chevrolet  Cruze  2017                regular unleaded      153.0   \n",
       "3172  Chevrolet  Cruze  2017                regular unleaded      153.0   \n",
       "\n",
       "      engine_cylinders transmission_type      driven_wheels  number_of_doors  \\\n",
       "402                4.0         AUTOMATIC  front wheel drive              4.0   \n",
       "403                4.0         AUTOMATIC  front wheel drive              4.0   \n",
       "406                4.0         AUTOMATIC  front wheel drive              4.0   \n",
       "408                4.0         AUTOMATIC  front wheel drive              4.0   \n",
       "2588               4.0         AUTOMATIC  front wheel drive              4.0   \n",
       "2589               4.0         AUTOMATIC  front wheel drive              4.0   \n",
       "2590               4.0         AUTOMATIC  front wheel drive              4.0   \n",
       "2591               4.0         AUTOMATIC  front wheel drive              4.0   \n",
       "3164               4.0         AUTOMATIC  front wheel drive              4.0   \n",
       "3172               4.0         AUTOMATIC  front wheel drive              4.0   \n",
       "\n",
       "            market_category vehicle_size  vehicle_style  highway_mpg  \\\n",
       "402               Hatchback      Compact  4dr Hatchback           37   \n",
       "403   Hatchback,Performance      Compact  4dr Hatchback           35   \n",
       "406   Hatchback,Performance      Compact  4dr Hatchback           35   \n",
       "408               Hatchback      Compact  4dr Hatchback           37   \n",
       "2588  Hatchback,Performance      Compact  4dr Hatchback           40   \n",
       "2589  Hatchback,Performance      Compact  4dr Hatchback           40   \n",
       "2590              Hatchback      Compact  4dr Hatchback           40   \n",
       "2591  Hatchback,Performance      Compact  4dr Hatchback           36   \n",
       "3164              Hatchback      Compact  4dr Hatchback           38   \n",
       "3172              Hatchback      Compact  4dr Hatchback           37   \n",
       "\n",
       "      city_mpg  popularity   MSRP  \n",
       "402         28         586  20145  \n",
       "403         26         586  24945  \n",
       "406         26         586  23445  \n",
       "408         28         586  22245  \n",
       "2588        31        2202  25300  \n",
       "2589        31        2202  22800  \n",
       "2590        31        2202  20500  \n",
       "2591        30        2202  22100  \n",
       "3164        29        1385  21920  \n",
       "3172        28        1385  23945  "
      ]
     },
     "execution_count": 46,
     "metadata": {},
     "output_type": "execute_result"
    }
   ],
   "source": [
    "# now search the database for the inputted answer \n",
    "search_4 = search_3.loc[search_3['MSRP'] > question_4b]\n",
    "search_4.head(n=10)"
   ]
  },
  {
   "cell_type": "code",
   "execution_count": 47,
   "metadata": {},
   "outputs": [
    {
     "name": "stdout",
     "output_type": "stream",
     "text": [
      "(38, 16)\n"
     ]
    }
   ],
   "source": [
    "### sanity check - is the data getting smaller? \n",
    "print(search_4.shape)"
   ]
  },
  {
   "cell_type": "code",
   "execution_count": 48,
   "metadata": {},
   "outputs": [
    {
     "name": "stdout",
     "output_type": "stream",
     "text": [
      "          model          MSRP\n",
      "1       CT 200h  31250.000000\n",
      "10  Prius Prime  29666.666667\n",
      "9         Prius  27308.333333\n",
      "8          Juke  24841.250000\n",
      "7       Impreza  23195.000000\n",
      "3         Cruze  22932.500000\n",
      "0             3  22695.000000\n",
      "2         Civic  22675.000000\n",
      "5         Forte  21990.000000\n",
      "6          Golf  21845.000000\n",
      "12        Sonic  21215.000000\n",
      "11          Rio  20905.000000\n",
      "4           Fit  20765.000000\n"
     ]
    }
   ],
   "source": [
    "# the data contains numberous entries for each model which represent choices that could be made re: car options\n",
    "# such as whether you have the base version of a model or a more luxurious version of a model\n",
    "# to pull out an overview, groupby model, calcualate the average price and output this \n",
    "\n",
    "grouped_price = search_4.groupby('model', as_index=False)['MSRP'].mean()\n",
    "sorted_grouped_price = grouped_price.sort_values(by=['MSRP'], ascending=[False])\n",
    "print(sorted_grouped_price)"
   ]
  },
  {
   "cell_type": "markdown",
   "metadata": {
    "collapsed": true
   },
   "source": []
  }
 ],
 "metadata": {
  "kernelspec": {
   "display_name": "Python 3",
   "language": "python",
   "name": "python3"
  },
  "language_info": {
   "codemirror_mode": {
    "name": "ipython",
    "version": 3
   },
   "file_extension": ".py",
   "mimetype": "text/x-python",
   "name": "python",
   "nbconvert_exporter": "python",
   "pygments_lexer": "ipython3",
   "version": "3.6.2"
  }
 },
 "nbformat": 4,
 "nbformat_minor": 2
}
